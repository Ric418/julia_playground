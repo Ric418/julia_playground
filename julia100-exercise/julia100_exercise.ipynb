{
 "cells": [
  {
   "cell_type": "markdown",
   "metadata": {},
   "source": [
    "# Julia100 Exercise\n",
    "[これ](https://github.com/rougier/numpy-100/blob/master/100_Numpy_exercises.ipynb)をJuliaでやってく.  \n",
    "もう１つのJulia100exerciseも途中まで(48個くらい？)だけどあるっぽい[こちら](https://github.com/chezou/julia-100-exercises/blob/master/README.md)  \n",
    "\n",
    "Julia version: 1.2.0\n",
    "\n",
    "**目指すは世界初()のJulia100 Exercise作成**\n",
    "\n",
    "全てに所感と考察を絶対述べる縛りで行きます."
   ]
  },
  {
   "cell_type": "markdown",
   "metadata": {},
   "source": [
    "## 1. 行列ライブラリを読み込む（難易度１）"
   ]
  },
  {
   "cell_type": "markdown",
   "metadata": {},
   "source": [
    "**これはimportの必要なしJuliaに関しては行列計算できる**  \n",
    "ドキュメントは[こちら](https://docs.julialang.org/en/v1/index.html)"
   ]
  },
  {
   "cell_type": "markdown",
   "metadata": {},
   "source": [
    "## 2. Juliaのバージョンを確認する（難易度１）"
   ]
  },
  {
   "cell_type": "code",
   "execution_count": 1,
   "metadata": {},
   "outputs": [
    {
     "data": {
      "text/plain": [
       "v\"1.2.0\""
      ]
     },
     "execution_count": 1,
     "metadata": {},
     "output_type": "execute_result"
    }
   ],
   "source": [
    "VERSION"
   ]
  },
  {
   "cell_type": "code",
   "execution_count": 18,
   "metadata": {},
   "outputs": [
    {
     "name": "stdout",
     "output_type": "stream",
     "text": [
      "search: \u001b[0m\u001b[1mV\u001b[22m\u001b[0m\u001b[1mE\u001b[22m\u001b[0m\u001b[1mR\u001b[22m\u001b[0m\u001b[1mS\u001b[22m\u001b[0m\u001b[1mI\u001b[22m\u001b[0m\u001b[1mO\u001b[22m\u001b[0m\u001b[1mN\u001b[22m \u001b[0m\u001b[1mV\u001b[22m\u001b[0m\u001b[1me\u001b[22m\u001b[0m\u001b[1mr\u001b[22m\u001b[0m\u001b[1ms\u001b[22m\u001b[0m\u001b[1mi\u001b[22m\u001b[0m\u001b[1mo\u001b[22m\u001b[0m\u001b[1mn\u001b[22mNumber \u001b[0m\u001b[1mv\u001b[22m\u001b[0m\u001b[1me\u001b[22m\u001b[0m\u001b[1mr\u001b[22m\u001b[0m\u001b[1ms\u001b[22m\u001b[0m\u001b[1mi\u001b[22m\u001b[0m\u001b[1mo\u001b[22m\u001b[0m\u001b[1mn\u001b[22minfo re\u001b[0m\u001b[1mv\u001b[22m\u001b[0m\u001b[1me\u001b[22m\u001b[0m\u001b[1mr\u001b[22m\u001b[0m\u001b[1ms\u001b[22me\u001b[0m\u001b[1mi\u001b[22mnd\n",
      "\n"
     ]
    },
    {
     "data": {
      "text/latex": [
       "\\begin{verbatim}\n",
       "VERSION\n",
       "\\end{verbatim}\n",
       "A \\texttt{VersionNumber} object describing which version of Julia is in use. For details see \\href{@ref man-version-number-literals}{Version Number Literals}.\n",
       "\n"
      ],
      "text/markdown": [
       "```\n",
       "VERSION\n",
       "```\n",
       "\n",
       "A `VersionNumber` object describing which version of Julia is in use. For details see [Version Number Literals](@ref man-version-number-literals).\n"
      ],
      "text/plain": [
       "\u001b[36m  VERSION\u001b[39m\n",
       "\n",
       "  A \u001b[36mVersionNumber\u001b[39m object describing which version of Julia is in use. For\n",
       "  details see Version Number Literals."
      ]
     },
     "execution_count": 18,
     "metadata": {},
     "output_type": "execute_result"
    }
   ],
   "source": [
    "?VERSION　# ?でドキュメントは変わらないっぽい"
   ]
  },
  {
   "cell_type": "markdown",
   "metadata": {},
   "source": [
    "#### 所感・考察・調査\n",
    "演算子の数とかドキュメントの充実さスゴない？(以下参照)"
   ]
  },
  {
   "cell_type": "code",
   "execution_count": 21,
   "metadata": {},
   "outputs": [
    {
     "name": "stdout",
     "output_type": "stream",
     "text": [
      "search: ⊻ ⊋ ⊊ ⊉ ⊈ ⊇ ⊆ ≥ ≤ ≢ ≡ ≠ ≉ ≈ ∪ ∩ ∛ √ ∘ ∌ ∋ ∉ ∈ ℯ π ÷ ~ | ^ \\ > < : / - +\n",
      "\n"
     ]
    },
    {
     "data": {
      "text/latex": [
       "\\textbf{Welcome to Julia 1.2.0.} The full manual is available at\n",
       "\n",
       "\\begin{verbatim}\n",
       "https://docs.julialang.org/\n",
       "\\end{verbatim}\n",
       "as well as many great tutorials and learning resources:\n",
       "\n",
       "\\begin{verbatim}\n",
       "https://julialang.org/learning/\n",
       "\\end{verbatim}\n",
       "For help on a specific function or macro, type \\texttt{?} followed by its name, e.g. \\texttt{?cos}, or \\texttt{?@time}, and press enter. Type \\texttt{;} to enter shell mode, \\texttt{]} to enter package mode.\n",
       "\n"
      ],
      "text/markdown": [
       "**Welcome to Julia 1.2.0.** The full manual is available at\n",
       "\n",
       "```\n",
       "https://docs.julialang.org/\n",
       "```\n",
       "\n",
       "as well as many great tutorials and learning resources:\n",
       "\n",
       "```\n",
       "https://julialang.org/learning/\n",
       "```\n",
       "\n",
       "For help on a specific function or macro, type `?` followed by its name, e.g. `?cos`, or `?@time`, and press enter. Type `;` to enter shell mode, `]` to enter package mode.\n"
      ],
      "text/plain": [
       "  \u001b[1mWelcome to Julia 1.2.0.\u001b[22m The full manual is available at\n",
       "\n",
       "\u001b[36m  https://docs.julialang.org/\u001b[39m\n",
       "\n",
       "  as well as many great tutorials and learning resources:\n",
       "\n",
       "\u001b[36m  https://julialang.org/learning/\u001b[39m\n",
       "\n",
       "  For help on a specific function or macro, type \u001b[36m?\u001b[39m followed by its name, e.g.\n",
       "  \u001b[36m?cos\u001b[39m, or \u001b[36m?@time\u001b[39m, and press enter. Type \u001b[36m;\u001b[39m to enter shell mode, \u001b[36m]\u001b[39m to enter\n",
       "  package mode."
      ]
     },
     "execution_count": 21,
     "metadata": {},
     "output_type": "execute_result"
    }
   ],
   "source": [
    "?"
   ]
  },
  {
   "cell_type": "code",
   "execution_count": 27,
   "metadata": {},
   "outputs": [
    {
     "name": "stdout",
     "output_type": "stream",
     "text": [
      "search: \u001b[0m\u001b[1mc\u001b[22m\u001b[0m\u001b[1mo\u001b[22m\u001b[0m\u001b[1ms\u001b[22m \u001b[0m\u001b[1mc\u001b[22m\u001b[0m\u001b[1mo\u001b[22m\u001b[0m\u001b[1ms\u001b[22mh \u001b[0m\u001b[1mc\u001b[22m\u001b[0m\u001b[1mo\u001b[22m\u001b[0m\u001b[1ms\u001b[22md \u001b[0m\u001b[1mc\u001b[22m\u001b[0m\u001b[1mo\u001b[22m\u001b[0m\u001b[1ms\u001b[22mc \u001b[0m\u001b[1mc\u001b[22m\u001b[0m\u001b[1mo\u001b[22m\u001b[0m\u001b[1ms\u001b[22mpi a\u001b[0m\u001b[1mc\u001b[22m\u001b[0m\u001b[1mo\u001b[22m\u001b[0m\u001b[1ms\u001b[22m a\u001b[0m\u001b[1mc\u001b[22m\u001b[0m\u001b[1mo\u001b[22m\u001b[0m\u001b[1ms\u001b[22mh a\u001b[0m\u001b[1mc\u001b[22m\u001b[0m\u001b[1mo\u001b[22m\u001b[0m\u001b[1ms\u001b[22md sin\u001b[0m\u001b[1mc\u001b[22m\u001b[0m\u001b[1mo\u001b[22m\u001b[0m\u001b[1ms\u001b[22m \u001b[0m\u001b[1mc\u001b[22m\u001b[0m\u001b[1mo\u001b[22mn\u001b[0m\u001b[1ms\u001b[22mt \u001b[0m\u001b[1mc\u001b[22ml\u001b[0m\u001b[1mo\u001b[22m\u001b[0m\u001b[1ms\u001b[22me is\u001b[0m\u001b[1mc\u001b[22m\u001b[0m\u001b[1mo\u001b[22mn\u001b[0m\u001b[1ms\u001b[22mt\n",
      "\n"
     ]
    },
    {
     "data": {
      "text/latex": [
       "\\begin{verbatim}\n",
       "cos(x)\n",
       "\\end{verbatim}\n",
       "Compute cosine of \\texttt{x}, where \\texttt{x} is in radians.\n",
       "\n",
       "\\rule{\\textwidth}{1pt}\n",
       "\\begin{verbatim}\n",
       "cos(A::AbstractMatrix)\n",
       "\\end{verbatim}\n",
       "Compute the matrix cosine of a square matrix \\texttt{A}.\n",
       "\n",
       "If \\texttt{A} is symmetric or Hermitian, its eigendecomposition (\\href{@ref}{\\texttt{eigen}}) is used to compute the cosine. Otherwise, the cosine is determined by calling \\href{@ref}{\\texttt{exp}}.\n",
       "\n",
       "\\section{Examples}\n",
       "\\begin{verbatim}\n",
       "julia> cos(fill(1.0, (2,2)))\n",
       "2×2 Array{Float64,2}:\n",
       "  0.291927  -0.708073\n",
       " -0.708073   0.291927\n",
       "\\end{verbatim}\n"
      ],
      "text/markdown": [
       "```\n",
       "cos(x)\n",
       "```\n",
       "\n",
       "Compute cosine of `x`, where `x` is in radians.\n",
       "\n",
       "---\n",
       "\n",
       "```\n",
       "cos(A::AbstractMatrix)\n",
       "```\n",
       "\n",
       "Compute the matrix cosine of a square matrix `A`.\n",
       "\n",
       "If `A` is symmetric or Hermitian, its eigendecomposition ([`eigen`](@ref)) is used to compute the cosine. Otherwise, the cosine is determined by calling [`exp`](@ref).\n",
       "\n",
       "# Examples\n",
       "\n",
       "```jldoctest\n",
       "julia> cos(fill(1.0, (2,2)))\n",
       "2×2 Array{Float64,2}:\n",
       "  0.291927  -0.708073\n",
       " -0.708073   0.291927\n",
       "```\n"
      ],
      "text/plain": [
       "\u001b[36m  cos(x)\u001b[39m\n",
       "\n",
       "  Compute cosine of \u001b[36mx\u001b[39m, where \u001b[36mx\u001b[39m is in radians.\n",
       "\n",
       "  ────────────────────────────────────────────────────────────────────────────\n",
       "\n",
       "\u001b[36m  cos(A::AbstractMatrix)\u001b[39m\n",
       "\n",
       "  Compute the matrix cosine of a square matrix \u001b[36mA\u001b[39m.\n",
       "\n",
       "  If \u001b[36mA\u001b[39m is symmetric or Hermitian, its eigendecomposition (\u001b[36meigen\u001b[39m) is used to\n",
       "  compute the cosine. Otherwise, the cosine is determined by calling \u001b[36mexp\u001b[39m.\n",
       "\n",
       "\u001b[1m  Examples\u001b[22m\n",
       "\u001b[1m  ≡≡≡≡≡≡≡≡≡≡\u001b[22m\n",
       "\n",
       "\u001b[36m  julia> cos(fill(1.0, (2,2)))\u001b[39m\n",
       "\u001b[36m  2×2 Array{Float64,2}:\u001b[39m\n",
       "\u001b[36m    0.291927  -0.708073\u001b[39m\n",
       "\u001b[36m   -0.708073   0.291927\u001b[39m"
      ]
     },
     "execution_count": 27,
     "metadata": {},
     "output_type": "execute_result"
    }
   ],
   "source": [
    "?cos"
   ]
  },
  {
   "cell_type": "markdown",
   "metadata": {},
   "source": [
    "## 3. サイズ10の零ベクトルを作成する（難易度１）"
   ]
  },
  {
   "cell_type": "code",
   "execution_count": 6,
   "metadata": {},
   "outputs": [
    {
     "data": {
      "text/plain": [
       "10×1 Array{Float64,2}:\n",
       " 0.0\n",
       " 0.0\n",
       " 0.0\n",
       " 0.0\n",
       " 0.0\n",
       " 0.0\n",
       " 0.0\n",
       " 0.0\n",
       " 0.0\n",
       " 0.0"
      ]
     },
     "execution_count": 6,
     "metadata": {},
     "output_type": "execute_result"
    }
   ],
   "source": [
    "a = zeros(Float64,10,1)"
   ]
  },
  {
   "cell_type": "code",
   "execution_count": 42,
   "metadata": {},
   "outputs": [
    {
     "data": {
      "text/plain": [
       "10×1 Array{Float64,2}:\n",
       " 0.0\n",
       " 0.0\n",
       " 0.0\n",
       " 0.0\n",
       " 0.0\n",
       " 0.0\n",
       " 0.0\n",
       " 0.0\n",
       " 0.0\n",
       " 0.0"
      ]
     },
     "execution_count": 42,
     "metadata": {},
     "output_type": "execute_result"
    }
   ],
   "source": [
    "zeros(10,1) # 型は指定しないとFloat64"
   ]
  },
  {
   "cell_type": "code",
   "execution_count": 8,
   "metadata": {},
   "outputs": [
    {
     "data": {
      "text/plain": [
       "10-element Array{Float64,1}:\n",
       " 0.0\n",
       " 0.0\n",
       " 0.0\n",
       " 0.0\n",
       " 0.0\n",
       " 0.0\n",
       " 0.0\n",
       " 0.0\n",
       " 0.0\n",
       " 0.0"
      ]
     },
     "execution_count": 8,
     "metadata": {},
     "output_type": "execute_result"
    }
   ],
   "source": [
    "zeros(10) # 配列になってるっぽい？"
   ]
  },
  {
   "cell_type": "code",
   "execution_count": 5,
   "metadata": {},
   "outputs": [
    {
     "data": {
      "text/plain": [
       "2×2 Array{Int64,2}:\n",
       " 0  0\n",
       " 0  0"
      ]
     },
     "execution_count": 5,
     "metadata": {},
     "output_type": "execute_result"
    }
   ],
   "source": [
    "A = zeros(Int64,2,2) "
   ]
  },
  {
   "cell_type": "markdown",
   "metadata": {},
   "source": [
    "#### 所感・考察・調査\n",
    "あくまでも行列演算ライブラリではないと言うのが`zeros(10)`の結果から読み取れる"
   ]
  },
  {
   "cell_type": "markdown",
   "metadata": {},
   "source": [
    "## 4. 行列のメモリサイズを確認するには？（難易度１）"
   ]
  },
  {
   "cell_type": "code",
   "execution_count": 36,
   "metadata": {},
   "outputs": [
    {
     "data": {
      "text/plain": [
       "80"
      ]
     },
     "execution_count": 36,
     "metadata": {},
     "output_type": "execute_result"
    }
   ],
   "source": [
    "sizeof(a)　"
   ]
  },
  {
   "cell_type": "code",
   "execution_count": 43,
   "metadata": {},
   "outputs": [
    {
     "data": {
      "text/plain": [
       "32"
      ]
     },
     "execution_count": 43,
     "metadata": {},
     "output_type": "execute_result"
    }
   ],
   "source": [
    "sizeof(A) #行列じゃなくてももちろん使える"
   ]
  },
  {
   "cell_type": "code",
   "execution_count": 41,
   "metadata": {},
   "outputs": [],
   "source": [
    "# ?size #?のサーチで見つけた。。。"
   ]
  },
  {
   "cell_type": "code",
   "execution_count": 40,
   "metadata": {},
   "outputs": [
    {
     "name": "stdout",
     "output_type": "stream",
     "text": [
      "search: \u001b[0m\u001b[1ms\u001b[22m\u001b[0m\u001b[1mi\u001b[22m\u001b[0m\u001b[1mz\u001b[22m\u001b[0m\u001b[1me\u001b[22m\u001b[0m\u001b[1mo\u001b[22m\u001b[0m\u001b[1mf\u001b[22m\n",
      "\n"
     ]
    },
    {
     "data": {
      "text/latex": [
       "\\begin{verbatim}\n",
       "sizeof(T::DataType)\n",
       "sizeof(obj)\n",
       "\\end{verbatim}\n",
       "Size, in bytes, of the canonical binary representation of the given \\texttt{DataType} \\texttt{T}, if any. Size, in bytes, of object \\texttt{obj} if it is not \\texttt{DataType}.\n",
       "\n",
       "\\section{Examples}\n",
       "\\begin{verbatim}\n",
       "julia> sizeof(Float32)\n",
       "4\n",
       "\n",
       "julia> sizeof(ComplexF64)\n",
       "16\n",
       "\n",
       "julia> sizeof(1.0)\n",
       "8\n",
       "\n",
       "julia> sizeof([1.0:10.0;])\n",
       "80\n",
       "\\end{verbatim}\n",
       "If \\texttt{DataType} \\texttt{T} does not have a specific size, an error is thrown.\n",
       "\n",
       "\\begin{verbatim}\n",
       "julia> sizeof(AbstractArray)\n",
       "ERROR: Abstract type AbstractArray does not have a definite size.\n",
       "Stacktrace:\n",
       "[...]\n",
       "\\end{verbatim}\n",
       "\\rule{\\textwidth}{1pt}\n",
       "\\begin{verbatim}\n",
       "sizeof(str::AbstractString)\n",
       "\\end{verbatim}\n",
       "Size, in bytes, of the string \\texttt{str}. Equal to the number of code units in \\texttt{str} multiplied by the size, in bytes, of one code unit in \\texttt{str}.\n",
       "\n",
       "\\section{Examples}\n",
       "\\begin{verbatim}\n",
       "julia> sizeof(\"\")\n",
       "0\n",
       "\n",
       "julia> sizeof(\"∀\")\n",
       "3\n",
       "\\end{verbatim}\n"
      ],
      "text/markdown": [
       "```\n",
       "sizeof(T::DataType)\n",
       "sizeof(obj)\n",
       "```\n",
       "\n",
       "Size, in bytes, of the canonical binary representation of the given `DataType` `T`, if any. Size, in bytes, of object `obj` if it is not `DataType`.\n",
       "\n",
       "# Examples\n",
       "\n",
       "```jldoctest\n",
       "julia> sizeof(Float32)\n",
       "4\n",
       "\n",
       "julia> sizeof(ComplexF64)\n",
       "16\n",
       "\n",
       "julia> sizeof(1.0)\n",
       "8\n",
       "\n",
       "julia> sizeof([1.0:10.0;])\n",
       "80\n",
       "```\n",
       "\n",
       "If `DataType` `T` does not have a specific size, an error is thrown.\n",
       "\n",
       "```jldoctest\n",
       "julia> sizeof(AbstractArray)\n",
       "ERROR: Abstract type AbstractArray does not have a definite size.\n",
       "Stacktrace:\n",
       "[...]\n",
       "```\n",
       "\n",
       "---\n",
       "\n",
       "```\n",
       "sizeof(str::AbstractString)\n",
       "```\n",
       "\n",
       "Size, in bytes, of the string `str`. Equal to the number of code units in `str` multiplied by the size, in bytes, of one code unit in `str`.\n",
       "\n",
       "# Examples\n",
       "\n",
       "```jldoctest\n",
       "julia> sizeof(\"\")\n",
       "0\n",
       "\n",
       "julia> sizeof(\"∀\")\n",
       "3\n",
       "```\n"
      ],
      "text/plain": [
       "\u001b[36m  sizeof(T::DataType)\u001b[39m\n",
       "\u001b[36m  sizeof(obj)\u001b[39m\n",
       "\n",
       "  Size, in bytes, of the canonical binary representation of the given \u001b[36mDataType\u001b[39m\n",
       "  \u001b[36mT\u001b[39m, if any. Size, in bytes, of object \u001b[36mobj\u001b[39m if it is not \u001b[36mDataType\u001b[39m.\n",
       "\n",
       "\u001b[1m  Examples\u001b[22m\n",
       "\u001b[1m  ≡≡≡≡≡≡≡≡≡≡\u001b[22m\n",
       "\n",
       "\u001b[36m  julia> sizeof(Float32)\u001b[39m\n",
       "\u001b[36m  4\u001b[39m\n",
       "\u001b[36m  \u001b[39m\n",
       "\u001b[36m  julia> sizeof(ComplexF64)\u001b[39m\n",
       "\u001b[36m  16\u001b[39m\n",
       "\u001b[36m  \u001b[39m\n",
       "\u001b[36m  julia> sizeof(1.0)\u001b[39m\n",
       "\u001b[36m  8\u001b[39m\n",
       "\u001b[36m  \u001b[39m\n",
       "\u001b[36m  julia> sizeof([1.0:10.0;])\u001b[39m\n",
       "\u001b[36m  80\u001b[39m\n",
       "\n",
       "  If \u001b[36mDataType\u001b[39m \u001b[36mT\u001b[39m does not have a specific size, an error is thrown.\n",
       "\n",
       "\u001b[36m  julia> sizeof(AbstractArray)\u001b[39m\n",
       "\u001b[36m  ERROR: Abstract type AbstractArray does not have a definite size.\u001b[39m\n",
       "\u001b[36m  Stacktrace:\u001b[39m\n",
       "\u001b[36m  [...]\u001b[39m\n",
       "\n",
       "  ────────────────────────────────────────────────────────────────────────────\n",
       "\n",
       "\u001b[36m  sizeof(str::AbstractString)\u001b[39m\n",
       "\n",
       "  Size, in bytes, of the string \u001b[36mstr\u001b[39m. Equal to the number of code units in \u001b[36mstr\u001b[39m\n",
       "  multiplied by the size, in bytes, of one code unit in \u001b[36mstr\u001b[39m.\n",
       "\n",
       "\u001b[1m  Examples\u001b[22m\n",
       "\u001b[1m  ≡≡≡≡≡≡≡≡≡≡\u001b[22m\n",
       "\n",
       "\u001b[36m  julia> sizeof(\"\")\u001b[39m\n",
       "\u001b[36m  0\u001b[39m\n",
       "\u001b[36m  \u001b[39m\n",
       "\u001b[36m  julia> sizeof(\"∀\")\u001b[39m\n",
       "\u001b[36m  3\u001b[39m"
      ]
     },
     "execution_count": 40,
     "metadata": {},
     "output_type": "execute_result"
    }
   ],
   "source": [
    "?sizeof"
   ]
  },
  {
   "cell_type": "markdown",
   "metadata": {},
   "source": [
    "#### 所感・考察・調査\n",
    "元のnumpy100見たく`size`とか`itemsize`でやるのかなーと思ってたけど`sizeof()`一発で行けるっぽい"
   ]
  },
  {
   "cell_type": "markdown",
   "metadata": {},
   "source": [
    "## 5. 任意のfunction等のドキュメントを得るには？（難易度１）"
   ]
  },
  {
   "cell_type": "code",
   "execution_count": 44,
   "metadata": {},
   "outputs": [
    {
     "name": "stdout",
     "output_type": "stream",
     "text": [
      "search: \u001b[0m\u001b[1ms\u001b[22m\u001b[0m\u001b[1mi\u001b[22m\u001b[0m\u001b[1mn\u001b[22m \u001b[0m\u001b[1ms\u001b[22m\u001b[0m\u001b[1mi\u001b[22m\u001b[0m\u001b[1mn\u001b[22mh \u001b[0m\u001b[1ms\u001b[22m\u001b[0m\u001b[1mi\u001b[22m\u001b[0m\u001b[1mn\u001b[22md \u001b[0m\u001b[1ms\u001b[22m\u001b[0m\u001b[1mi\u001b[22m\u001b[0m\u001b[1mn\u001b[22mc \u001b[0m\u001b[1ms\u001b[22m\u001b[0m\u001b[1mi\u001b[22m\u001b[0m\u001b[1mn\u001b[22mpi \u001b[0m\u001b[1ms\u001b[22m\u001b[0m\u001b[1mi\u001b[22m\u001b[0m\u001b[1mn\u001b[22mcos a\u001b[0m\u001b[1ms\u001b[22m\u001b[0m\u001b[1mi\u001b[22m\u001b[0m\u001b[1mn\u001b[22m u\u001b[0m\u001b[1ms\u001b[22m\u001b[0m\u001b[1mi\u001b[22m\u001b[0m\u001b[1mn\u001b[22mg i\u001b[0m\u001b[1ms\u001b[22m\u001b[0m\u001b[1mi\u001b[22m\u001b[0m\u001b[1mn\u001b[22mf a\u001b[0m\u001b[1ms\u001b[22m\u001b[0m\u001b[1mi\u001b[22m\u001b[0m\u001b[1mn\u001b[22mh a\u001b[0m\u001b[1ms\u001b[22m\u001b[0m\u001b[1mi\u001b[22m\u001b[0m\u001b[1mn\u001b[22md i\u001b[0m\u001b[1ms\u001b[22m\u001b[0m\u001b[1mi\u001b[22m\u001b[0m\u001b[1mn\u001b[22mteger\n",
      "\n"
     ]
    },
    {
     "data": {
      "text/latex": [
       "\\begin{verbatim}\n",
       "sin(x)\n",
       "\\end{verbatim}\n",
       "Compute sine of \\texttt{x}, where \\texttt{x} is in radians.\n",
       "\n",
       "\\rule{\\textwidth}{1pt}\n",
       "\\begin{verbatim}\n",
       "sin(A::AbstractMatrix)\n",
       "\\end{verbatim}\n",
       "Compute the matrix sine of a square matrix \\texttt{A}.\n",
       "\n",
       "If \\texttt{A} is symmetric or Hermitian, its eigendecomposition (\\href{@ref}{\\texttt{eigen}}) is used to compute the sine. Otherwise, the sine is determined by calling \\href{@ref}{\\texttt{exp}}.\n",
       "\n",
       "\\section{Examples}\n",
       "\\begin{verbatim}\n",
       "julia> sin(fill(1.0, (2,2)))\n",
       "2×2 Array{Float64,2}:\n",
       " 0.454649  0.454649\n",
       " 0.454649  0.454649\n",
       "\\end{verbatim}\n"
      ],
      "text/markdown": [
       "```\n",
       "sin(x)\n",
       "```\n",
       "\n",
       "Compute sine of `x`, where `x` is in radians.\n",
       "\n",
       "---\n",
       "\n",
       "```\n",
       "sin(A::AbstractMatrix)\n",
       "```\n",
       "\n",
       "Compute the matrix sine of a square matrix `A`.\n",
       "\n",
       "If `A` is symmetric or Hermitian, its eigendecomposition ([`eigen`](@ref)) is used to compute the sine. Otherwise, the sine is determined by calling [`exp`](@ref).\n",
       "\n",
       "# Examples\n",
       "\n",
       "```jldoctest\n",
       "julia> sin(fill(1.0, (2,2)))\n",
       "2×2 Array{Float64,2}:\n",
       " 0.454649  0.454649\n",
       " 0.454649  0.454649\n",
       "```\n"
      ],
      "text/plain": [
       "\u001b[36m  sin(x)\u001b[39m\n",
       "\n",
       "  Compute sine of \u001b[36mx\u001b[39m, where \u001b[36mx\u001b[39m is in radians.\n",
       "\n",
       "  ────────────────────────────────────────────────────────────────────────────\n",
       "\n",
       "\u001b[36m  sin(A::AbstractMatrix)\u001b[39m\n",
       "\n",
       "  Compute the matrix sine of a square matrix \u001b[36mA\u001b[39m.\n",
       "\n",
       "  If \u001b[36mA\u001b[39m is symmetric or Hermitian, its eigendecomposition (\u001b[36meigen\u001b[39m) is used to\n",
       "  compute the sine. Otherwise, the sine is determined by calling \u001b[36mexp\u001b[39m.\n",
       "\n",
       "\u001b[1m  Examples\u001b[22m\n",
       "\u001b[1m  ≡≡≡≡≡≡≡≡≡≡\u001b[22m\n",
       "\n",
       "\u001b[36m  julia> sin(fill(1.0, (2,2)))\u001b[39m\n",
       "\u001b[36m  2×2 Array{Float64,2}:\u001b[39m\n",
       "\u001b[36m   0.454649  0.454649\u001b[39m\n",
       "\u001b[36m   0.454649  0.454649\u001b[39m"
      ]
     },
     "execution_count": 44,
     "metadata": {},
     "output_type": "execute_result"
    }
   ],
   "source": [
    "?sin"
   ]
  },
  {
   "cell_type": "code",
   "execution_count": 45,
   "metadata": {},
   "outputs": [
    {
     "name": "stdout",
     "output_type": "stream",
     "text": [
      "search: \u001b[0m\u001b[1mf\u001b[22m\u001b[0m\u001b[1mi\u001b[22m\u001b[0m\u001b[1ml\u001b[22m\u001b[0m\u001b[1ml\u001b[22m \u001b[0m\u001b[1mf\u001b[22m\u001b[0m\u001b[1mi\u001b[22m\u001b[0m\u001b[1ml\u001b[22m\u001b[0m\u001b[1ml\u001b[22m! \u001b[0m\u001b[1mf\u001b[22m\u001b[0m\u001b[1mi\u001b[22mna\u001b[0m\u001b[1ml\u001b[22m\u001b[0m\u001b[1ml\u001b[22my \u001b[0m\u001b[1mf\u001b[22m\u001b[0m\u001b[1mi\u001b[22mnda\u001b[0m\u001b[1ml\u001b[22m\u001b[0m\u001b[1ml\u001b[22m \u001b[0m\u001b[1mf\u001b[22m\u001b[0m\u001b[1mi\u001b[22m\u001b[0m\u001b[1ml\u001b[22mter \u001b[0m\u001b[1mf\u001b[22m\u001b[0m\u001b[1mi\u001b[22m\u001b[0m\u001b[1ml\u001b[22mter! \u001b[0m\u001b[1mf\u001b[22m\u001b[0m\u001b[1mi\u001b[22m\u001b[0m\u001b[1ml\u001b[22mesize \u001b[0m\u001b[1mf\u001b[22m\u001b[0m\u001b[1mi\u001b[22m\u001b[0m\u001b[1ml\u001b[22memode is\u001b[0m\u001b[1mf\u001b[22m\u001b[0m\u001b[1mi\u001b[22m\u001b[0m\u001b[1ml\u001b[22me\n",
      "\n"
     ]
    },
    {
     "data": {
      "text/latex": [
       "\\begin{verbatim}\n",
       "fill(x, dims)\n",
       "\\end{verbatim}\n",
       "Create an array filled with the value \\texttt{x}. For example, \\texttt{fill(1.0, (5,5))} returns a 5×5 array of floats, with each element initialized to \\texttt{1.0}.\n",
       "\n",
       "\\section{Examples}\n",
       "\\begin{verbatim}\n",
       "julia> fill(1.0, (5,5))\n",
       "5×5 Array{Float64,2}:\n",
       " 1.0  1.0  1.0  1.0  1.0\n",
       " 1.0  1.0  1.0  1.0  1.0\n",
       " 1.0  1.0  1.0  1.0  1.0\n",
       " 1.0  1.0  1.0  1.0  1.0\n",
       " 1.0  1.0  1.0  1.0  1.0\n",
       "\\end{verbatim}\n",
       "If \\texttt{x} is an object reference, all elements will refer to the same object. \\texttt{fill(Foo(), dims)} will return an array filled with the result of evaluating \\texttt{Foo()} once.\n",
       "\n"
      ],
      "text/markdown": [
       "```\n",
       "fill(x, dims)\n",
       "```\n",
       "\n",
       "Create an array filled with the value `x`. For example, `fill(1.0, (5,5))` returns a 5×5 array of floats, with each element initialized to `1.0`.\n",
       "\n",
       "# Examples\n",
       "\n",
       "```jldoctest\n",
       "julia> fill(1.0, (5,5))\n",
       "5×5 Array{Float64,2}:\n",
       " 1.0  1.0  1.0  1.0  1.0\n",
       " 1.0  1.0  1.0  1.0  1.0\n",
       " 1.0  1.0  1.0  1.0  1.0\n",
       " 1.0  1.0  1.0  1.0  1.0\n",
       " 1.0  1.0  1.0  1.0  1.0\n",
       "```\n",
       "\n",
       "If `x` is an object reference, all elements will refer to the same object. `fill(Foo(), dims)` will return an array filled with the result of evaluating `Foo()` once.\n"
      ],
      "text/plain": [
       "\u001b[36m  fill(x, dims)\u001b[39m\n",
       "\n",
       "  Create an array filled with the value \u001b[36mx\u001b[39m. For example, \u001b[36mfill(1.0, (5,5))\u001b[39m\n",
       "  returns a 5×5 array of floats, with each element initialized to \u001b[36m1.0\u001b[39m.\n",
       "\n",
       "\u001b[1m  Examples\u001b[22m\n",
       "\u001b[1m  ≡≡≡≡≡≡≡≡≡≡\u001b[22m\n",
       "\n",
       "\u001b[36m  julia> fill(1.0, (5,5))\u001b[39m\n",
       "\u001b[36m  5×5 Array{Float64,2}:\u001b[39m\n",
       "\u001b[36m   1.0  1.0  1.0  1.0  1.0\u001b[39m\n",
       "\u001b[36m   1.0  1.0  1.0  1.0  1.0\u001b[39m\n",
       "\u001b[36m   1.0  1.0  1.0  1.0  1.0\u001b[39m\n",
       "\u001b[36m   1.0  1.0  1.0  1.0  1.0\u001b[39m\n",
       "\u001b[36m   1.0  1.0  1.0  1.0  1.0\u001b[39m\n",
       "\n",
       "  If \u001b[36mx\u001b[39m is an object reference, all elements will refer to the same object.\n",
       "  \u001b[36mfill(Foo(), dims)\u001b[39m will return an array filled with the result of evaluating\n",
       "  \u001b[36mFoo()\u001b[39m once."
      ]
     },
     "execution_count": 45,
     "metadata": {},
     "output_type": "execute_result"
    }
   ],
   "source": [
    "?fill"
   ]
  },
  {
   "cell_type": "markdown",
   "metadata": {},
   "source": [
    "#### 所感・考察・調査\n",
    "`?`:ヘルプコマンドの便利さがスゴイ"
   ]
  },
  {
   "cell_type": "markdown",
   "metadata": {},
   "source": [
    "## 06. 5番目の要素だけ1の大きさ10の零ベクトルを作る（難易度1）"
   ]
  },
  {
   "cell_type": "code",
   "execution_count": 5,
   "metadata": {},
   "outputs": [
    {
     "data": {
      "text/plain": [
       "1"
      ]
     },
     "execution_count": 5,
     "metadata": {},
     "output_type": "execute_result"
    }
   ],
   "source": [
    "a6 = zeros(10,1)\n",
    "a6[5]=1"
   ]
  },
  {
   "cell_type": "code",
   "execution_count": 6,
   "metadata": {},
   "outputs": [
    {
     "data": {
      "text/plain": [
       "10×1 Array{Float64,2}:\n",
       " 0.0\n",
       " 0.0\n",
       " 0.0\n",
       " 0.0\n",
       " 1.0\n",
       " 0.0\n",
       " 0.0\n",
       " 0.0\n",
       " 0.0\n",
       " 0.0"
      ]
     },
     "execution_count": 6,
     "metadata": {},
     "output_type": "execute_result"
    }
   ],
   "source": [
    "a6"
   ]
  },
  {
   "cell_type": "markdown",
   "metadata": {},
   "source": [
    "#### 所感・考察・調査\n",
    "indexの始まりが0スタートでないことに注意"
   ]
  },
  {
   "cell_type": "markdown",
   "metadata": {},
   "source": [
    "## 07. 10~49の範囲のベクトルを作成する（難易度1）"
   ]
  },
  {
   "cell_type": "code",
   "execution_count": 30,
   "metadata": {},
   "outputs": [
    {
     "data": {
      "text/plain": [
       "40-element LinRange{Float64}:\n",
       " 10.0,11.0,12.0,13.0,14.0,15.0,16.0,17.0,…,43.0,44.0,45.0,46.0,47.0,48.0,49.0"
      ]
     },
     "execution_count": 30,
     "metadata": {},
     "output_type": "execute_result"
    }
   ],
   "source": [
    "LinRange(10,49,49-9)"
   ]
  },
  {
   "cell_type": "code",
   "execution_count": 61,
   "metadata": {},
   "outputs": [
    {
     "name": "stdout",
     "output_type": "stream",
     "text": [
      "[11; 12; 13; 14; 15; 16; 17; 18; 19; 20; 21; 22; 23; 24; 25; 26; 27; 28; 29; 30; 31; 32; 33; 34; 35; 36; 37; 38; 39; 40; 41; 42; 43; 44; 45; 46; 47; 48; 49]"
     ]
    }
   ],
   "source": [
    "print([ 10 + 1*x for x in 1:39, y in 1:1 ])"
   ]
  },
  {
   "cell_type": "markdown",
   "metadata": {},
   "source": [
    "#### 所感・考察・調査\n",
    "他に絶対いいやり方ありそう、要調査"
   ]
  },
  {
   "cell_type": "markdown",
   "metadata": {},
   "source": [
    "#### 追記\n",
    "調査結果"
   ]
  },
  {
   "cell_type": "code",
   "execution_count": 49,
   "metadata": {},
   "outputs": [
    {
     "name": "stdout",
     "output_type": "stream",
     "text": [
      "[10, 11, 12, 13, 14, 15, 16, 17, 18, 19, 20, 21, 22, 23, 24, 25, 26, 27, 28, 29, 30, 31, 32, 33, 34, 35, 36, 37, 38, 39, 40, 41, 42, 43, 44, 45, 46, 47, 48, 49]"
     ]
    }
   ],
   "source": [
    "print([x for x = 10:49])"
   ]
  },
  {
   "cell_type": "markdown",
   "metadata": {},
   "source": [
    "## 08. ベクトルを並びを反対にするには？(最初の要素を最後の要素に)（難易度1)"
   ]
  },
  {
   "cell_type": "code",
   "execution_count": 60,
   "metadata": {},
   "outputs": [],
   "source": [
    "base_vec08=[ 10 + 1*x for x in 1:39, y in 1:1 ];"
   ]
  },
  {
   "cell_type": "code",
   "execution_count": 56,
   "metadata": {},
   "outputs": [
    {
     "name": "stdout",
     "output_type": "stream",
     "text": [
      "[49, 48, 47, 46, 45, 44, 43, 42, 41, 40, 39, 38, 37, 36, 35, 34, 33, 32, 31, 30, 29, 28, 27, 26, 25, 24, 23, 22, 21, 20, 19, 18, 17, 16, 15, 14, 13, 12, 11]"
     ]
    }
   ],
   "source": [
    "print(base_vec08[end:-1:1])"
   ]
  },
  {
   "cell_type": "markdown",
   "metadata": {},
   "source": [
    "#### 所感・考察・調査\n",
    "arrayのスライス?の使い方?  \n",
    "`[始めるindex:step:終わりのindex]`,[参考](https://stackoverflow.com/questions/27411401/julia-reverse-n-dimensional-arrays)"
   ]
  },
  {
   "cell_type": "code",
   "execution_count": 59,
   "metadata": {},
   "outputs": [
    {
     "name": "stdout",
     "output_type": "stream",
     "text": [
      "[49, 47, 45, 43, 41, 39, 37, 35, 33, 31, 29, 27, 25, 23, 21]"
     ]
    }
   ],
   "source": [
    "print(base_vec08[end:-2:10])"
   ]
  },
  {
   "cell_type": "markdown",
   "metadata": {},
   "source": [
    "## 09. 0~8の値をもつ3*3の行列を作成する"
   ]
  },
  {
   "cell_type": "code",
   "execution_count": 96,
   "metadata": {},
   "outputs": [
    {
     "data": {
      "text/plain": [
       "3×3 LinearAlgebra.Adjoint{Int64,Array{Int64,2}}:\n",
       " 0  1  2\n",
       " 3  4  5\n",
       " 6  7  8"
      ]
     },
     "execution_count": 96,
     "metadata": {},
     "output_type": "execute_result"
    }
   ],
   "source": [
    "base09=[ x-1 for x in 1:9, y in 1:1 ];\n",
    "ans09=reshape(base09,3,3)'"
   ]
  },
  {
   "cell_type": "markdown",
   "metadata": {},
   "source": [
    "#### 所感・考察・調査\n",
    "これはnumpyとほぼ同じ、転置するには`'`をつける。[参考](https://qiita.com/haru1843/items/3956dab2fd0d448cd02b)  \n",
    "以下の書き方もある"
   ]
  },
  {
   "cell_type": "code",
   "execution_count": 7,
   "metadata": {},
   "outputs": [
    {
     "data": {
      "text/plain": [
       "3×3 LinearAlgebra.Adjoint{Int64,Base.ReshapedArray{Int64,2,UnitRange{Int64},Tuple{}}}:\n",
       " 0  1  2\n",
       " 3  4  5\n",
       " 6  7  8"
      ]
     },
     "execution_count": 7,
     "metadata": {},
     "output_type": "execute_result"
    }
   ],
   "source": [
    "reshape(0:8, 3, 3)'"
   ]
  },
  {
   "cell_type": "markdown",
   "metadata": {},
   "source": [
    "## 10. `[1,2,0,0,4,0]`から要素が0でないインデックスを見つける"
   ]
  },
  {
   "cell_type": "code",
   "execution_count": 2,
   "metadata": {},
   "outputs": [],
   "source": [
    "base10=[1,2,0,0,4,0];"
   ]
  },
  {
   "cell_type": "code",
   "execution_count": 6,
   "metadata": {},
   "outputs": [
    {
     "data": {
      "text/plain": [
       "3-element Array{Int64,1}:\n",
       " 1\n",
       " 2\n",
       " 5"
      ]
     },
     "execution_count": 6,
     "metadata": {},
     "output_type": "execute_result"
    }
   ],
   "source": [
    "findall(x->x!=0,base10)"
   ]
  },
  {
   "cell_type": "markdown",
   "metadata": {},
   "source": [
    "#### 所感・考察・調査\n",
    "他の条件での検索・行列への適用も可能.[参考](https://discourse.julialang.org/t/finding-position-of-element-in-an-array/12502)"
   ]
  },
  {
   "cell_type": "markdown",
   "metadata": {},
   "source": [
    "## 11. 3*3の単位行列を作成する"
   ]
  },
  {
   "cell_type": "code",
   "execution_count": 2,
   "metadata": {},
   "outputs": [],
   "source": [
    "using LinearAlgebra"
   ]
  },
  {
   "cell_type": "code",
   "execution_count": 4,
   "metadata": {},
   "outputs": [
    {
     "data": {
      "text/plain": [
       "2×2 Array{Float64,2}:\n",
       " 1.0  0.0\n",
       " 0.0  1.0"
      ]
     },
     "execution_count": 4,
     "metadata": {},
     "output_type": "execute_result"
    }
   ],
   "source": [
    "Matrix{Float64}(I, 2, 2)"
   ]
  },
  {
   "cell_type": "markdown",
   "metadata": {},
   "source": [
    "#### 所感・考察・調査\n",
    "線形代数系などを使う場合は`using`を用いる.[参考](https://www.reddit.com/r/Julia/comments/9cfosj/identity_matrix_in_julia_v10/)  \n",
    "pkgでimportする必要もあるかも"
   ]
  },
  {
   "cell_type": "markdown",
   "metadata": {},
   "source": [
    "## 12. 乱数で 3x3x3 配列を生成する"
   ]
  },
  {
   "cell_type": "code",
   "execution_count": 2,
   "metadata": {},
   "outputs": [
    {
     "data": {
      "text/plain": [
       "3×3×3 Array{Float64,3}:\n",
       "[:, :, 1] =\n",
       " 0.596368   0.0139274  0.870677\n",
       " 0.547485   0.84639    0.730537\n",
       " 0.0127367  0.71785    0.523963\n",
       "\n",
       "[:, :, 2] =\n",
       " 0.290247  0.401709  0.384823 \n",
       " 0.29468   0.680223  0.0183093\n",
       " 0.353845  0.105515  0.255638 \n",
       "\n",
       "[:, :, 3] =\n",
       " 0.531215  0.326404  0.0694056\n",
       " 0.861704  0.668102  0.402493 \n",
       " 0.165582  0.670954  0.66965  "
      ]
     },
     "execution_count": 2,
     "metadata": {},
     "output_type": "execute_result"
    }
   ],
   "source": [
    "rand(3, 3, 3)"
   ]
  },
  {
   "cell_type": "markdown",
   "metadata": {},
   "source": [
    "#### 所感・考察・調査\n",
    "`rand`を用いる.[参考](https://docs.julialang.org/en/v1/stdlib/Random/)  "
   ]
  },
  {
   "cell_type": "markdown",
   "metadata": {},
   "source": [
    "## 13. 乱数で 10x10 配列を生成して、その最小値と最大値を見つける"
   ]
  },
  {
   "cell_type": "code",
   "execution_count": 7,
   "metadata": {},
   "outputs": [],
   "source": [
    "ans13=rand(10, 10);"
   ]
  },
  {
   "cell_type": "code",
   "execution_count": 13,
   "metadata": {},
   "outputs": [
    {
     "name": "stdout",
     "output_type": "stream",
     "text": [
      "(0.005112553439780454, CartesianIndex(4, 3))\n",
      "(0.9877986237343379, CartesianIndex(2, 1))\n"
     ]
    }
   ],
   "source": [
    "println(findmin(ans13))\n",
    "println(findmax(ans13))"
   ]
  },
  {
   "cell_type": "markdown",
   "metadata": {},
   "source": [
    "#### 所感・考察・調査\n",
    "見つけた最小最大とindex(位置)が返される.\n",
    "[参考](https://qiita.com/yshutaro/items/0e9a57d1977d4b65ccfc#findmin%E9%96%A2%E6%95%B0findmax%E9%96%A2%E6%95%B0)  \n",
    "こちらも軸をdimで指定出来る."
   ]
  },
  {
   "cell_type": "code",
   "execution_count": 23,
   "metadata": {},
   "outputs": [
    {
     "name": "stdout",
     "output_type": "stream",
     "text": [
      "([0.17669189181462874 0.1934329846430094 0.005112553439780454 0.06514074825436644 0.013729635176940036 0.01062104259287544 0.2264110966364623 0.020540626073598967 0.11947163941981254 0.11378571534468307], CartesianIndex{2}[CartesianIndex(10, 1) CartesianIndex(4, 2) CartesianIndex(4, 3) CartesianIndex(4, 4) CartesianIndex(8, 5) CartesianIndex(2, 6) CartesianIndex(9, 7) CartesianIndex(7, 8) CartesianIndex(4, 9) CartesianIndex(9, 10)])\n",
      "([0.17699347206107663; 0.01062104259287544; 0.06547699196955681; 0.005112553439780454; 0.3145552489695298; 0.09183834781637068; 0.020540626073598967; 0.013729635176940036; 0.11378571534468307; 0.11513767577795564], CartesianIndex{2}[CartesianIndex(1, 9); CartesianIndex(2, 6); CartesianIndex(3, 3); CartesianIndex(4, 3); CartesianIndex(5, 3); CartesianIndex(6, 6); CartesianIndex(7, 8); CartesianIndex(8, 5); CartesianIndex(9, 10); CartesianIndex(10, 8)])\n"
     ]
    }
   ],
   "source": [
    "println(findmin(ans13,dims=1))\n",
    "println(findmin(ans13,dims=2))"
   ]
  },
  {
   "cell_type": "code",
   "execution_count": 24,
   "metadata": {},
   "outputs": [],
   "source": [
    "# ?findmin"
   ]
  },
  {
   "cell_type": "markdown",
   "metadata": {},
   "source": [
    "## 14. 大きさ30の乱数のベクトルを生成して、その平均を求める"
   ]
  },
  {
   "cell_type": "code",
   "execution_count": 31,
   "metadata": {},
   "outputs": [],
   "source": [
    "using Statistics"
   ]
  },
  {
   "cell_type": "code",
   "execution_count": 32,
   "metadata": {},
   "outputs": [
    {
     "data": {
      "text/plain": [
       "0.5280760708329783"
      ]
     },
     "execution_count": 32,
     "metadata": {},
     "output_type": "execute_result"
    }
   ],
   "source": [
    "mean(rand(30))"
   ]
  },
  {
   "cell_type": "markdown",
   "metadata": {},
   "source": [
    "#### 所感・考察・調査\n",
    "`Statistics`パッケージで各種統計量を使える.  [参考](https://docs.julialang.org/en/v1/stdlib/Statistics/)"
   ]
  },
  {
   "cell_type": "markdown",
   "metadata": {},
   "source": [
    "## 15. 周囲が 1 で内部が 0 であるような2次元配列生成する"
   ]
  },
  {
   "cell_type": "code",
   "execution_count": 69,
   "metadata": {},
   "outputs": [
    {
     "data": {
      "text/plain": [
       "10×10 Array{Float64,2}:\n",
       " 1.0  1.0  1.0  1.0  1.0  1.0  1.0  1.0  1.0  1.0\n",
       " 1.0  0.0  0.0  0.0  0.0  0.0  0.0  0.0  0.0  1.0\n",
       " 1.0  0.0  0.0  0.0  0.0  0.0  0.0  0.0  0.0  1.0\n",
       " 1.0  0.0  0.0  0.0  0.0  0.0  0.0  0.0  0.0  1.0\n",
       " 1.0  0.0  0.0  0.0  0.0  0.0  0.0  0.0  0.0  1.0\n",
       " 1.0  0.0  0.0  0.0  0.0  0.0  0.0  0.0  0.0  1.0\n",
       " 1.0  0.0  0.0  0.0  0.0  0.0  0.0  0.0  0.0  1.0\n",
       " 1.0  0.0  0.0  0.0  0.0  0.0  0.0  0.0  0.0  1.0\n",
       " 1.0  0.0  0.0  0.0  0.0  0.0  0.0  0.0  0.0  1.0\n",
       " 1.0  1.0  1.0  1.0  1.0  1.0  1.0  1.0  1.0  1.0"
      ]
     },
     "execution_count": 69,
     "metadata": {},
     "output_type": "execute_result"
    }
   ],
   "source": [
    "ans15=ones((10,10));\n",
    "ans15[2:9,2:9].=0;\n",
    "ans15"
   ]
  },
  {
   "cell_type": "markdown",
   "metadata": {},
   "source": [
    "#### 所感・考察・調査\n",
    "`ans15[2:-1,2:-1]`,こんな感じには指定できない?"
   ]
  },
  {
   "cell_type": "markdown",
   "metadata": {},
   "source": [
    "## 16. 存在する行列の周りに0の境界線を引く"
   ]
  },
  {
   "cell_type": "code",
   "execution_count": 6,
   "metadata": {},
   "outputs": [],
   "source": [
    "# import Pkg; Pkg.add(\"PaddedViews\")"
   ]
  },
  {
   "cell_type": "code",
   "execution_count": 6,
   "metadata": {},
   "outputs": [],
   "source": [
    "# import Pkg; Pkg.add(\"OffsetArrays\")"
   ]
  },
  {
   "cell_type": "code",
   "execution_count": 7,
   "metadata": {},
   "outputs": [],
   "source": [
    "using PaddedViews, OffsetArrays"
   ]
  },
  {
   "cell_type": "code",
   "execution_count": 34,
   "metadata": {},
   "outputs": [
    {
     "data": {
      "text/plain": [
       "4×4 OffsetArray(::Array{Float64,2}, 3:6, 3:6) with eltype Float64 with indices 3:6×3:6:\n",
       " 1.0  1.0  1.0  1.0\n",
       " 1.0  1.0  1.0  1.0\n",
       " 1.0  1.0  1.0  1.0\n",
       " 1.0  1.0  1.0  1.0"
      ]
     },
     "execution_count": 34,
     "metadata": {},
     "output_type": "execute_result"
    }
   ],
   "source": [
    "A = OffsetArray(ones(4, 4), 3:6, 3:6)"
   ]
  },
  {
   "cell_type": "code",
   "execution_count": 36,
   "metadata": {},
   "outputs": [
    {
     "data": {
      "text/plain": [
       "8×8 PaddedView{Float64,2,Tuple{Base.OneTo{Int64},Base.OneTo{Int64}},OffsetArray{Float64,2,Array{Float64,2}}}:\n",
       " 0.0  0.0  0.0  0.0  0.0  0.0  0.0  0.0\n",
       " 0.0  0.0  0.0  0.0  0.0  0.0  0.0  0.0\n",
       " 0.0  0.0  1.0  1.0  1.0  1.0  0.0  0.0\n",
       " 0.0  0.0  1.0  1.0  1.0  1.0  0.0  0.0\n",
       " 0.0  0.0  1.0  1.0  1.0  1.0  0.0  0.0\n",
       " 0.0  0.0  1.0  1.0  1.0  1.0  0.0  0.0\n",
       " 0.0  0.0  0.0  0.0  0.0  0.0  0.0  0.0\n",
       " 0.0  0.0  0.0  0.0  0.0  0.0  0.0  0.0"
      ]
     },
     "execution_count": 36,
     "metadata": {},
     "output_type": "execute_result"
    }
   ],
   "source": [
    "PaddedView(0, A, (Base.OneTo(8), Base.OneTo(8)))"
   ]
  },
  {
   "cell_type": "markdown",
   "metadata": {},
   "source": [
    "#### 所感・考察・調査\n",
    "numpyよりも一手間かかるイメージ, [参考](https://github.com/JuliaArrays/PaddedViews.jl/issues/9)  \n",
    "ここでは  \n",
    "\n",
    "1. 1-2, 5-6のオフセットをもつ4*4の要素1.0の行列を作成(`OffsetArray`を使用)\n",
    "2. PaddedViewにより1-2, 5-6のオフセットを0.0でパティングした8*8の行列を作成する \n",
    "\n",
    "と言う手順を取っている."
   ]
  },
  {
   "cell_type": "markdown",
   "metadata": {},
   "source": [
    "## 17. 以下の式の結果は?"
   ]
  },
  {
   "cell_type": "code",
   "execution_count": 38,
   "metadata": {},
   "outputs": [
    {
     "data": {
      "text/plain": [
       "NaN"
      ]
     },
     "execution_count": 38,
     "metadata": {},
     "output_type": "execute_result"
    }
   ],
   "source": [
    "0 * NaN"
   ]
  },
  {
   "cell_type": "code",
   "execution_count": 39,
   "metadata": {},
   "outputs": [
    {
     "data": {
      "text/plain": [
       "false"
      ]
     },
     "execution_count": 39,
     "metadata": {},
     "output_type": "execute_result"
    }
   ],
   "source": [
    "NaN == NaN"
   ]
  },
  {
   "cell_type": "code",
   "execution_count": 43,
   "metadata": {},
   "outputs": [
    {
     "data": {
      "text/plain": [
       "false"
      ]
     },
     "execution_count": 43,
     "metadata": {},
     "output_type": "execute_result"
    }
   ],
   "source": [
    "Inf>NaN"
   ]
  },
  {
   "cell_type": "code",
   "execution_count": 44,
   "metadata": {},
   "outputs": [
    {
     "data": {
      "text/plain": [
       "NaN"
      ]
     },
     "execution_count": 44,
     "metadata": {},
     "output_type": "execute_result"
    }
   ],
   "source": [
    "NaN-NaN"
   ]
  },
  {
   "cell_type": "code",
   "execution_count": 45,
   "metadata": {},
   "outputs": [
    {
     "data": {
      "text/plain": [
       "false"
      ]
     },
     "execution_count": 45,
     "metadata": {},
     "output_type": "execute_result"
    }
   ],
   "source": [
    "0.3 == 3 * 0.1"
   ]
  },
  {
   "cell_type": "markdown",
   "metadata": {},
   "source": [
    "#### 所感・考察・調査\n",
    "大体Pythonと同じ？"
   ]
  },
  {
   "cell_type": "markdown",
   "metadata": {},
   "source": [
    "## 18. 対角成分の直下に 1,2,3,4 の成分を持つ 5x5 行列を生成する"
   ]
  },
  {
   "cell_type": "markdown",
   "metadata": {},
   "source": [
    "#### 1. `diagind`を用いる\n",
    "`diagind`:対象とした行列の対角要素のindexを返す. 第二引数で対象とする軸を選択す(今回は-1)"
   ]
  },
  {
   "cell_type": "code",
   "execution_count": 70,
   "metadata": {},
   "outputs": [
    {
     "data": {
      "text/plain": [
       "5×5 Array{Int64,2}:\n",
       " 0  0  0  0  0\n",
       " 1  0  0  0  0\n",
       " 0  2  0  0  0\n",
       " 0  0  3  0  0\n",
       " 0  0  0  4  0"
      ]
     },
     "execution_count": 70,
     "metadata": {},
     "output_type": "execute_result"
    }
   ],
   "source": [
    "ans18_1=zeros(Int64,5,5);\n",
    "ans18_1[diagind(base18, -1)] .= [x for x in 1:4];\n",
    "ans18_1"
   ]
  },
  {
   "cell_type": "markdown",
   "metadata": {},
   "source": [
    "#### 2. `Tridiagonal`を用いる"
   ]
  },
  {
   "cell_type": "code",
   "execution_count": 6,
   "metadata": {},
   "outputs": [],
   "source": [
    "using LinearAlgebra"
   ]
  },
  {
   "cell_type": "code",
   "execution_count": 75,
   "metadata": {},
   "outputs": [],
   "source": [
    "dl=[ x for x in 1:4 ];\n",
    "d=zeros(Int64,5);\n",
    "du=zeros(Int64,4);"
   ]
  },
  {
   "cell_type": "code",
   "execution_count": 95,
   "metadata": {},
   "outputs": [
    {
     "data": {
      "text/plain": [
       "5×5 Tridiagonal{Int64,Array{Int64,1}}:\n",
       " 0  0  ⋅  ⋅  ⋅\n",
       " 1  0  0  ⋅  ⋅\n",
       " ⋅  2  0  0  ⋅\n",
       " ⋅  ⋅  3  0  0\n",
       " ⋅  ⋅  ⋅  4  0"
      ]
     },
     "execution_count": 95,
     "metadata": {},
     "output_type": "execute_result"
    }
   ],
   "source": [
    "ans18_2=Tridiagonal(dl,d,du)"
   ]
  },
  {
   "cell_type": "markdown",
   "metadata": {},
   "source": [
    "#### 追記:`diagm`を用いる\n",
    "これが一番直感的かも, =>の前で軸?を指定"
   ]
  },
  {
   "cell_type": "code",
   "execution_count": 100,
   "metadata": {},
   "outputs": [
    {
     "data": {
      "text/plain": [
       "5×5 Array{Int64,2}:\n",
       " 0  0  0  0  0\n",
       " 1  0  0  0  0\n",
       " 0  2  0  0  0\n",
       " 0  0  3  0  0\n",
       " 0  0  0  4  0"
      ]
     },
     "execution_count": 100,
     "metadata": {},
     "output_type": "execute_result"
    }
   ],
   "source": [
    "diagm(-1=>[ x for x in 1:4 ])"
   ]
  },
  {
   "cell_type": "markdown",
   "metadata": {},
   "source": [
    "#### 所感・考察・調査\n",
    "Tridiagonalは本来の使い方ではない気がするので前者の手法でやる方がいいかも  \n",
    "diagindの使い方はほぼpythonの同じ使い方ができる.\n",
    "[1の参考](https://stackoverflow.com/questions/49964360/in-julia-assign-the-diagonal-values-of-a-matrix-get-error-in-method-definition), [2の参考](https://docs.julialang.org/en/v1/stdlib/LinearAlgebra/#LinearAlgebra.Diagonal)"
   ]
  },
  {
   "cell_type": "markdown",
   "metadata": {},
   "source": [
    "## 19. 8x8 行列を生成して、市松模様で埋める"
   ]
  },
  {
   "cell_type": "markdown",
   "metadata": {},
   "source": [
    "#### 1. numpy100-exerciseと同じアプローチ"
   ]
  },
  {
   "cell_type": "code",
   "execution_count": 101,
   "metadata": {},
   "outputs": [],
   "source": [
    "ans19_1=zeros(Int64,8,8);"
   ]
  },
  {
   "cell_type": "code",
   "execution_count": 102,
   "metadata": {},
   "outputs": [],
   "source": [
    "ans19_1[2:2:end,1:2:end].=1;\n",
    "ans19_1[1:2:end,2:2:end].=1;"
   ]
  },
  {
   "cell_type": "code",
   "execution_count": 103,
   "metadata": {},
   "outputs": [
    {
     "data": {
      "text/plain": [
       "8×8 Array{Int64,2}:\n",
       " 0  1  0  1  0  1  0  1\n",
       " 1  0  1  0  1  0  1  0\n",
       " 0  1  0  1  0  1  0  1\n",
       " 1  0  1  0  1  0  1  0\n",
       " 0  1  0  1  0  1  0  1\n",
       " 1  0  1  0  1  0  1  0\n",
       " 0  1  0  1  0  1  0  1\n",
       " 1  0  1  0  1  0  1  0"
      ]
     },
     "execution_count": 103,
     "metadata": {},
     "output_type": "execute_result"
    }
   ],
   "source": [
    "ans19_1"
   ]
  },
  {
   "cell_type": "markdown",
   "metadata": {},
   "source": [
    "#### 2. `repeat`を用いる"
   ]
  },
  {
   "cell_type": "code",
   "execution_count": 109,
   "metadata": {},
   "outputs": [
    {
     "data": {
      "text/plain": [
       "2×2 Array{Int64,2}:\n",
       " 0  1\n",
       " 1  0"
      ]
     },
     "execution_count": 109,
     "metadata": {},
     "output_type": "execute_result"
    }
   ],
   "source": [
    "pa=[0 1; 1 0]"
   ]
  },
  {
   "cell_type": "code",
   "execution_count": 112,
   "metadata": {},
   "outputs": [
    {
     "data": {
      "text/plain": [
       "8×8 Array{Int64,2}:\n",
       " 0  1  0  1  0  1  0  1\n",
       " 1  0  1  0  1  0  1  0\n",
       " 0  1  0  1  0  1  0  1\n",
       " 1  0  1  0  1  0  1  0\n",
       " 0  1  0  1  0  1  0  1\n",
       " 1  0  1  0  1  0  1  0\n",
       " 0  1  0  1  0  1  0  1\n",
       " 1  0  1  0  1  0  1  0"
      ]
     },
     "execution_count": 112,
     "metadata": {},
     "output_type": "execute_result"
    }
   ],
   "source": [
    "ans19_2=repeat(pa, 4, 4)"
   ]
  },
  {
   "cell_type": "markdown",
   "metadata": {},
   "source": [
    "#### 所感・考察・調査\n",
    "pythonとは異なりjuliaでは`[start:step:end]`の順で指定することに再度注意   \n",
    "repeat使うのは題意にそわないかもだがnumpyのrepeatより便利でわかりやすい[参考](https://cheatsheets.quantecon.org/julia-cheatsheet.html)\n",
    "\n",
    "numpyでもやってるもっと大きい塊はindexの指定を対応させるだけなので飛ばしてrepeat使ってやってみる.\n",
    "\n",
    "※[BlockArrays](https://github.com/JuliaArrays/BlockArrays.jl)って言うパッケージもあるみたい. [使い方の一例](https://stackoverflow.com/questions/54515769/how-do-i-efficiently-construct-a-block-matrix-of-the-following-form-in-julia)"
   ]
  },
  {
   "cell_type": "code",
   "execution_count": 114,
   "metadata": {},
   "outputs": [
    {
     "data": {
      "text/plain": [
       "8×8 Array{Int64,2}:\n",
       " 1  1  0  0  1  1  0  0\n",
       " 1  1  0  0  1  1  0  0\n",
       " 0  0  1  1  0  0  1  1\n",
       " 0  0  1  1  0  0  1  1\n",
       " 1  1  0  0  1  1  0  0\n",
       " 1  1  0  0  1  1  0  0\n",
       " 0  0  1  1  0  0  1  1\n",
       " 0  0  1  1  0  0  1  1"
      ]
     },
     "execution_count": 114,
     "metadata": {},
     "output_type": "execute_result"
    }
   ],
   "source": [
    "pa_a=[1 1 0 0;1 1 0 0; 0 0 1 1;0 0 1 1]\n",
    "ans19_a=repeat(pa_a,2,2)"
   ]
  },
  {
   "cell_type": "markdown",
   "metadata": {},
   "source": [
    "## 20. shape属性が (6,7,8) の配列のとき、100 番目の要素の添え字 (x,y,z)は？"
   ]
  },
  {
   "cell_type": "code",
   "execution_count": 116,
   "metadata": {},
   "outputs": [],
   "source": [
    "base20=rand(6,7,8);"
   ]
  },
  {
   "cell_type": "code",
   "execution_count": 131,
   "metadata": {},
   "outputs": [
    {
     "data": {
      "text/plain": [
       "0.5018030869420558"
      ]
     },
     "execution_count": 131,
     "metadata": {},
     "output_type": "execute_result"
    }
   ],
   "source": [
    "base20[100]"
   ]
  },
  {
   "cell_type": "markdown",
   "metadata": {},
   "source": [
    "#### 所感・考察・調査\n",
    "これに関してはjuliaの方が便利？"
   ]
  },
  {
   "cell_type": "markdown",
   "metadata": {},
   "source": [
    "## 21.  repeat(tile) 関数を使って 8x8 の市松模様の行列を生成する"
   ]
  },
  {
   "cell_type": "code",
   "execution_count": 2,
   "metadata": {},
   "outputs": [
    {
     "data": {
      "text/plain": [
       "2×2 Array{Int64,2}:\n",
       " 0  1\n",
       " 1  0"
      ]
     },
     "execution_count": 2,
     "metadata": {},
     "output_type": "execute_result"
    }
   ],
   "source": [
    "pa=[0 1; 1 0]"
   ]
  },
  {
   "cell_type": "code",
   "execution_count": 3,
   "metadata": {},
   "outputs": [
    {
     "data": {
      "text/plain": [
       "8×8 Array{Int64,2}:\n",
       " 0  1  0  1  0  1  0  1\n",
       " 1  0  1  0  1  0  1  0\n",
       " 0  1  0  1  0  1  0  1\n",
       " 1  0  1  0  1  0  1  0\n",
       " 0  1  0  1  0  1  0  1\n",
       " 1  0  1  0  1  0  1  0\n",
       " 0  1  0  1  0  1  0  1\n",
       " 1  0  1  0  1  0  1  0"
      ]
     },
     "execution_count": 3,
     "metadata": {},
     "output_type": "execute_result"
    }
   ],
   "source": [
    "ans21=repeat(pa, 4, 4)"
   ]
  },
  {
   "cell_type": "markdown",
   "metadata": {},
   "source": [
    "#### 所感・考察・調査\n",
    "juliaでは`repeat`関数がpythonの`tile`関数的な立ち位置？"
   ]
  },
  {
   "cell_type": "markdown",
   "metadata": {},
   "source": [
    "## 22. 5x5 の乱数の行列を正規化する"
   ]
  },
  {
   "cell_type": "code",
   "execution_count": 5,
   "metadata": {},
   "outputs": [],
   "source": [
    "base22=rand(5,5);"
   ]
  },
  {
   "cell_type": "code",
   "execution_count": 32,
   "metadata": {},
   "outputs": [
    {
     "data": {
      "text/plain": [
       "5×5 Array{Float64,2}:\n",
       " 0.225745  0.503401   0.390656  0.0        0.498111  \n",
       " 0.591373  0.0371045  0.800711  0.0489565  0.408724  \n",
       " 1.0       0.793097   0.385142  0.513221   0.00901402\n",
       " 0.931503  0.0369867  0.595053  0.912737   0.224504  \n",
       " 0.897668  0.891797   0.974115  0.638756   0.237521  "
      ]
     },
     "execution_count": 32,
     "metadata": {},
     "output_type": "execute_result"
    }
   ],
   "source": [
    "ans22=map(x -> (x-findmin(base22)[1])/(findmax(base22)[1]-findmin(base22)[1]), base22)"
   ]
  },
  {
   "cell_type": "markdown",
   "metadata": {},
   "source": [
    "#### 所感・考察・調査\n",
    "map使わなくてもなんかメソッドありそう要調査"
   ]
  },
  {
   "cell_type": "markdown",
   "metadata": {},
   "source": [
    "## 23. 色を 4 個の符号なしバイト型 (RGBA) で表現するカスタム dtype を作成する"
   ]
  },
  {
   "cell_type": "code",
   "execution_count": 16,
   "metadata": {},
   "outputs": [],
   "source": [
    "struct color\n",
    "    r::Float64\n",
    "    g::Float64\n",
    "    b::Float64\n",
    "    a::Float64\n",
    "end"
   ]
  },
  {
   "cell_type": "code",
   "execution_count": 17,
   "metadata": {},
   "outputs": [
    {
     "data": {
      "text/plain": [
       "2-element Array{color,1}:\n",
       " color(100.0, 111.0, 221.0, 12.0)\n",
       " color(10.0, 11.0, 21.0, 12.0)   "
      ]
     },
     "execution_count": 17,
     "metadata": {},
     "output_type": "execute_result"
    }
   ],
   "source": [
    "[color(100,111,221,12),color(10,11,21,12)]"
   ]
  },
  {
   "cell_type": "markdown",
   "metadata": {},
   "source": [
    "#### 所感・考察・調査\n",
    "これでいいのか…? [参考](https://docs.julialang.org/en/v1/manual/types/)"
   ]
  },
  {
   "cell_type": "markdown",
   "metadata": {},
   "source": [
    "## 24. 5x3 行列と 3x2 行列の掛け算 (実数の行列積) "
   ]
  },
  {
   "cell_type": "code",
   "execution_count": 21,
   "metadata": {},
   "outputs": [],
   "source": [
    "base24_1=reshape(0:14, 3, 5)';\n",
    "base24_2=reshape(0:5, 2, 3)';"
   ]
  },
  {
   "cell_type": "code",
   "execution_count": 22,
   "metadata": {},
   "outputs": [
    {
     "data": {
      "text/plain": [
       "5×2 Array{Int64,2}:\n",
       " 10   13\n",
       " 28   40\n",
       " 46   67\n",
       " 64   94\n",
       " 82  121"
      ]
     },
     "execution_count": 22,
     "metadata": {},
     "output_type": "execute_result"
    }
   ],
   "source": [
    "base24_1*base24_2"
   ]
  },
  {
   "cell_type": "markdown",
   "metadata": {},
   "source": [
    "#### 所感・考察・調査\n",
    "単純に掛け算でできるっぽい、行列の生成のステップの方向がnumpyと違い行方向なのでそこだけ注意"
   ]
  },
  {
   "cell_type": "markdown",
   "metadata": {},
   "source": [
    "## 25. 1次元配列が与えられたとき、数値が３から８の全要素をネゲート(負値)する"
   ]
  },
  {
   "cell_type": "code",
   "execution_count": 74,
   "metadata": {},
   "outputs": [
    {
     "name": "stdout",
     "output_type": "stream",
     "text": [
      "[0, 1, 2, -1, -1, -1, -1, -1, -1, 9, 10]"
     ]
    }
   ],
   "source": [
    "base25=[x for x = 0:10];\n",
    "tar=-1\n",
    "ans25=[(if (i>=3) & (i<=8) tar else i end) for i in base25]\n",
    "print(ans25)"
   ]
  },
  {
   "cell_type": "markdown",
   "metadata": {},
   "source": [
    "#### 所感・考察・調査\n",
    "内包表記もできるっぽい"
   ]
  },
  {
   "cell_type": "code",
   "execution_count": null,
   "metadata": {},
   "outputs": [],
   "source": []
  }
 ],
 "metadata": {
  "kernelspec": {
   "display_name": "Julia 1.2.0",
   "language": "julia",
   "name": "julia-1.2"
  },
  "language_info": {
   "file_extension": ".jl",
   "mimetype": "application/julia",
   "name": "julia",
   "version": "1.2.0"
  }
 },
 "nbformat": 4,
 "nbformat_minor": 4
}
