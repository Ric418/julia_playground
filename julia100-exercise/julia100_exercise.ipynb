{
 "cells": [
  {
   "cell_type": "markdown",
   "metadata": {},
   "source": [
    "# Julia100 Exercise\n",
    "[これ](https://github.com/rougier/numpy-100/blob/master/100_Numpy_exercises.ipynb)をJuliaでやってく.  \n",
    "もう１つのJulia100exerciseも途中まで(48個くらい？)だけどあるっぽい[こちら](https://github.com/chezou/julia-100-exercises/blob/master/README.md)　　\n",
    "\n",
    "**目指すは世界初()のJulia100 Exercise作成**\n",
    "\n",
    "全てに所感と考察を絶対述べる縛りで行きます."
   ]
  },
  {
   "cell_type": "markdown",
   "metadata": {},
   "source": [
    "## 1. 行列ライブラリを読み込む（難易度１）"
   ]
  },
  {
   "cell_type": "markdown",
   "metadata": {},
   "source": [
    "**これはimportの必要なしJuliaに関しては行列計算のライブラリがある**  \n",
    "ドキュメントは[こちら](https://docs.julialang.org/en/v1/index.html)"
   ]
  },
  {
   "cell_type": "markdown",
   "metadata": {},
   "source": [
    "## 2. Juliaのバージョンを確認する（難易度１）"
   ]
  },
  {
   "cell_type": "code",
   "execution_count": 1,
   "metadata": {},
   "outputs": [
    {
     "data": {
      "text/plain": [
       "v\"1.2.0\""
      ]
     },
     "execution_count": 1,
     "metadata": {},
     "output_type": "execute_result"
    }
   ],
   "source": [
    "VERSION"
   ]
  },
  {
   "cell_type": "code",
   "execution_count": 18,
   "metadata": {},
   "outputs": [
    {
     "name": "stdout",
     "output_type": "stream",
     "text": [
      "search: \u001b[0m\u001b[1mV\u001b[22m\u001b[0m\u001b[1mE\u001b[22m\u001b[0m\u001b[1mR\u001b[22m\u001b[0m\u001b[1mS\u001b[22m\u001b[0m\u001b[1mI\u001b[22m\u001b[0m\u001b[1mO\u001b[22m\u001b[0m\u001b[1mN\u001b[22m \u001b[0m\u001b[1mV\u001b[22m\u001b[0m\u001b[1me\u001b[22m\u001b[0m\u001b[1mr\u001b[22m\u001b[0m\u001b[1ms\u001b[22m\u001b[0m\u001b[1mi\u001b[22m\u001b[0m\u001b[1mo\u001b[22m\u001b[0m\u001b[1mn\u001b[22mNumber \u001b[0m\u001b[1mv\u001b[22m\u001b[0m\u001b[1me\u001b[22m\u001b[0m\u001b[1mr\u001b[22m\u001b[0m\u001b[1ms\u001b[22m\u001b[0m\u001b[1mi\u001b[22m\u001b[0m\u001b[1mo\u001b[22m\u001b[0m\u001b[1mn\u001b[22minfo re\u001b[0m\u001b[1mv\u001b[22m\u001b[0m\u001b[1me\u001b[22m\u001b[0m\u001b[1mr\u001b[22m\u001b[0m\u001b[1ms\u001b[22me\u001b[0m\u001b[1mi\u001b[22mnd\n",
      "\n"
     ]
    },
    {
     "data": {
      "text/latex": [
       "\\begin{verbatim}\n",
       "VERSION\n",
       "\\end{verbatim}\n",
       "A \\texttt{VersionNumber} object describing which version of Julia is in use. For details see \\href{@ref man-version-number-literals}{Version Number Literals}.\n",
       "\n"
      ],
      "text/markdown": [
       "```\n",
       "VERSION\n",
       "```\n",
       "\n",
       "A `VersionNumber` object describing which version of Julia is in use. For details see [Version Number Literals](@ref man-version-number-literals).\n"
      ],
      "text/plain": [
       "\u001b[36m  VERSION\u001b[39m\n",
       "\n",
       "  A \u001b[36mVersionNumber\u001b[39m object describing which version of Julia is in use. For\n",
       "  details see Version Number Literals."
      ]
     },
     "execution_count": 18,
     "metadata": {},
     "output_type": "execute_result"
    }
   ],
   "source": [
    "?VERSION　# ?でドキュメントは変わらないっぽい"
   ]
  },
  {
   "cell_type": "markdown",
   "metadata": {},
   "source": [
    "#### 所感・考察・調査\n",
    "演算子の数とかドキュメントの充実さスゴない？(以下参照)"
   ]
  },
  {
   "cell_type": "code",
   "execution_count": 21,
   "metadata": {},
   "outputs": [
    {
     "name": "stdout",
     "output_type": "stream",
     "text": [
      "search: ⊻ ⊋ ⊊ ⊉ ⊈ ⊇ ⊆ ≥ ≤ ≢ ≡ ≠ ≉ ≈ ∪ ∩ ∛ √ ∘ ∌ ∋ ∉ ∈ ℯ π ÷ ~ | ^ \\ > < : / - +\n",
      "\n"
     ]
    },
    {
     "data": {
      "text/latex": [
       "\\textbf{Welcome to Julia 1.2.0.} The full manual is available at\n",
       "\n",
       "\\begin{verbatim}\n",
       "https://docs.julialang.org/\n",
       "\\end{verbatim}\n",
       "as well as many great tutorials and learning resources:\n",
       "\n",
       "\\begin{verbatim}\n",
       "https://julialang.org/learning/\n",
       "\\end{verbatim}\n",
       "For help on a specific function or macro, type \\texttt{?} followed by its name, e.g. \\texttt{?cos}, or \\texttt{?@time}, and press enter. Type \\texttt{;} to enter shell mode, \\texttt{]} to enter package mode.\n",
       "\n"
      ],
      "text/markdown": [
       "**Welcome to Julia 1.2.0.** The full manual is available at\n",
       "\n",
       "```\n",
       "https://docs.julialang.org/\n",
       "```\n",
       "\n",
       "as well as many great tutorials and learning resources:\n",
       "\n",
       "```\n",
       "https://julialang.org/learning/\n",
       "```\n",
       "\n",
       "For help on a specific function or macro, type `?` followed by its name, e.g. `?cos`, or `?@time`, and press enter. Type `;` to enter shell mode, `]` to enter package mode.\n"
      ],
      "text/plain": [
       "  \u001b[1mWelcome to Julia 1.2.0.\u001b[22m The full manual is available at\n",
       "\n",
       "\u001b[36m  https://docs.julialang.org/\u001b[39m\n",
       "\n",
       "  as well as many great tutorials and learning resources:\n",
       "\n",
       "\u001b[36m  https://julialang.org/learning/\u001b[39m\n",
       "\n",
       "  For help on a specific function or macro, type \u001b[36m?\u001b[39m followed by its name, e.g.\n",
       "  \u001b[36m?cos\u001b[39m, or \u001b[36m?@time\u001b[39m, and press enter. Type \u001b[36m;\u001b[39m to enter shell mode, \u001b[36m]\u001b[39m to enter\n",
       "  package mode."
      ]
     },
     "execution_count": 21,
     "metadata": {},
     "output_type": "execute_result"
    }
   ],
   "source": [
    "?"
   ]
  },
  {
   "cell_type": "code",
   "execution_count": 27,
   "metadata": {},
   "outputs": [
    {
     "name": "stdout",
     "output_type": "stream",
     "text": [
      "search: \u001b[0m\u001b[1mc\u001b[22m\u001b[0m\u001b[1mo\u001b[22m\u001b[0m\u001b[1ms\u001b[22m \u001b[0m\u001b[1mc\u001b[22m\u001b[0m\u001b[1mo\u001b[22m\u001b[0m\u001b[1ms\u001b[22mh \u001b[0m\u001b[1mc\u001b[22m\u001b[0m\u001b[1mo\u001b[22m\u001b[0m\u001b[1ms\u001b[22md \u001b[0m\u001b[1mc\u001b[22m\u001b[0m\u001b[1mo\u001b[22m\u001b[0m\u001b[1ms\u001b[22mc \u001b[0m\u001b[1mc\u001b[22m\u001b[0m\u001b[1mo\u001b[22m\u001b[0m\u001b[1ms\u001b[22mpi a\u001b[0m\u001b[1mc\u001b[22m\u001b[0m\u001b[1mo\u001b[22m\u001b[0m\u001b[1ms\u001b[22m a\u001b[0m\u001b[1mc\u001b[22m\u001b[0m\u001b[1mo\u001b[22m\u001b[0m\u001b[1ms\u001b[22mh a\u001b[0m\u001b[1mc\u001b[22m\u001b[0m\u001b[1mo\u001b[22m\u001b[0m\u001b[1ms\u001b[22md sin\u001b[0m\u001b[1mc\u001b[22m\u001b[0m\u001b[1mo\u001b[22m\u001b[0m\u001b[1ms\u001b[22m \u001b[0m\u001b[1mc\u001b[22m\u001b[0m\u001b[1mo\u001b[22mn\u001b[0m\u001b[1ms\u001b[22mt \u001b[0m\u001b[1mc\u001b[22ml\u001b[0m\u001b[1mo\u001b[22m\u001b[0m\u001b[1ms\u001b[22me is\u001b[0m\u001b[1mc\u001b[22m\u001b[0m\u001b[1mo\u001b[22mn\u001b[0m\u001b[1ms\u001b[22mt\n",
      "\n"
     ]
    },
    {
     "data": {
      "text/latex": [
       "\\begin{verbatim}\n",
       "cos(x)\n",
       "\\end{verbatim}\n",
       "Compute cosine of \\texttt{x}, where \\texttt{x} is in radians.\n",
       "\n",
       "\\rule{\\textwidth}{1pt}\n",
       "\\begin{verbatim}\n",
       "cos(A::AbstractMatrix)\n",
       "\\end{verbatim}\n",
       "Compute the matrix cosine of a square matrix \\texttt{A}.\n",
       "\n",
       "If \\texttt{A} is symmetric or Hermitian, its eigendecomposition (\\href{@ref}{\\texttt{eigen}}) is used to compute the cosine. Otherwise, the cosine is determined by calling \\href{@ref}{\\texttt{exp}}.\n",
       "\n",
       "\\section{Examples}\n",
       "\\begin{verbatim}\n",
       "julia> cos(fill(1.0, (2,2)))\n",
       "2×2 Array{Float64,2}:\n",
       "  0.291927  -0.708073\n",
       " -0.708073   0.291927\n",
       "\\end{verbatim}\n"
      ],
      "text/markdown": [
       "```\n",
       "cos(x)\n",
       "```\n",
       "\n",
       "Compute cosine of `x`, where `x` is in radians.\n",
       "\n",
       "---\n",
       "\n",
       "```\n",
       "cos(A::AbstractMatrix)\n",
       "```\n",
       "\n",
       "Compute the matrix cosine of a square matrix `A`.\n",
       "\n",
       "If `A` is symmetric or Hermitian, its eigendecomposition ([`eigen`](@ref)) is used to compute the cosine. Otherwise, the cosine is determined by calling [`exp`](@ref).\n",
       "\n",
       "# Examples\n",
       "\n",
       "```jldoctest\n",
       "julia> cos(fill(1.0, (2,2)))\n",
       "2×2 Array{Float64,2}:\n",
       "  0.291927  -0.708073\n",
       " -0.708073   0.291927\n",
       "```\n"
      ],
      "text/plain": [
       "\u001b[36m  cos(x)\u001b[39m\n",
       "\n",
       "  Compute cosine of \u001b[36mx\u001b[39m, where \u001b[36mx\u001b[39m is in radians.\n",
       "\n",
       "  ────────────────────────────────────────────────────────────────────────────\n",
       "\n",
       "\u001b[36m  cos(A::AbstractMatrix)\u001b[39m\n",
       "\n",
       "  Compute the matrix cosine of a square matrix \u001b[36mA\u001b[39m.\n",
       "\n",
       "  If \u001b[36mA\u001b[39m is symmetric or Hermitian, its eigendecomposition (\u001b[36meigen\u001b[39m) is used to\n",
       "  compute the cosine. Otherwise, the cosine is determined by calling \u001b[36mexp\u001b[39m.\n",
       "\n",
       "\u001b[1m  Examples\u001b[22m\n",
       "\u001b[1m  ≡≡≡≡≡≡≡≡≡≡\u001b[22m\n",
       "\n",
       "\u001b[36m  julia> cos(fill(1.0, (2,2)))\u001b[39m\n",
       "\u001b[36m  2×2 Array{Float64,2}:\u001b[39m\n",
       "\u001b[36m    0.291927  -0.708073\u001b[39m\n",
       "\u001b[36m   -0.708073   0.291927\u001b[39m"
      ]
     },
     "execution_count": 27,
     "metadata": {},
     "output_type": "execute_result"
    }
   ],
   "source": [
    "?cos"
   ]
  },
  {
   "cell_type": "markdown",
   "metadata": {},
   "source": [
    "## 3. サイズ10の零ベクトルを作成する（難易度１）"
   ]
  },
  {
   "cell_type": "code",
   "execution_count": 6,
   "metadata": {},
   "outputs": [
    {
     "data": {
      "text/plain": [
       "10×1 Array{Float64,2}:\n",
       " 0.0\n",
       " 0.0\n",
       " 0.0\n",
       " 0.0\n",
       " 0.0\n",
       " 0.0\n",
       " 0.0\n",
       " 0.0\n",
       " 0.0\n",
       " 0.0"
      ]
     },
     "execution_count": 6,
     "metadata": {},
     "output_type": "execute_result"
    }
   ],
   "source": [
    "a = zeros(Float64,10,1)"
   ]
  },
  {
   "cell_type": "code",
   "execution_count": 42,
   "metadata": {},
   "outputs": [
    {
     "data": {
      "text/plain": [
       "10×1 Array{Float64,2}:\n",
       " 0.0\n",
       " 0.0\n",
       " 0.0\n",
       " 0.0\n",
       " 0.0\n",
       " 0.0\n",
       " 0.0\n",
       " 0.0\n",
       " 0.0\n",
       " 0.0"
      ]
     },
     "execution_count": 42,
     "metadata": {},
     "output_type": "execute_result"
    }
   ],
   "source": [
    "zeros(10,1) # 型は指定しないとFloat64"
   ]
  },
  {
   "cell_type": "code",
   "execution_count": 8,
   "metadata": {},
   "outputs": [
    {
     "data": {
      "text/plain": [
       "10-element Array{Float64,1}:\n",
       " 0.0\n",
       " 0.0\n",
       " 0.0\n",
       " 0.0\n",
       " 0.0\n",
       " 0.0\n",
       " 0.0\n",
       " 0.0\n",
       " 0.0\n",
       " 0.0"
      ]
     },
     "execution_count": 8,
     "metadata": {},
     "output_type": "execute_result"
    }
   ],
   "source": [
    "zeros(10) # 配列になってるっぽい？"
   ]
  },
  {
   "cell_type": "code",
   "execution_count": 5,
   "metadata": {},
   "outputs": [
    {
     "data": {
      "text/plain": [
       "2×2 Array{Int64,2}:\n",
       " 0  0\n",
       " 0  0"
      ]
     },
     "execution_count": 5,
     "metadata": {},
     "output_type": "execute_result"
    }
   ],
   "source": [
    "A = zeros(Int64,2,2) "
   ]
  },
  {
   "cell_type": "markdown",
   "metadata": {},
   "source": [
    "#### 所感・考察・調査\n",
    "あくまでも行列演算ライブラリではないと言うのが`zeros(10)`の結果から読み取れる"
   ]
  },
  {
   "cell_type": "markdown",
   "metadata": {},
   "source": [
    "## 4. 行列のメモリサイズを確認するには？（難易度１）"
   ]
  },
  {
   "cell_type": "code",
   "execution_count": 36,
   "metadata": {},
   "outputs": [
    {
     "data": {
      "text/plain": [
       "80"
      ]
     },
     "execution_count": 36,
     "metadata": {},
     "output_type": "execute_result"
    }
   ],
   "source": [
    "sizeof(a)　"
   ]
  },
  {
   "cell_type": "code",
   "execution_count": 43,
   "metadata": {},
   "outputs": [
    {
     "data": {
      "text/plain": [
       "32"
      ]
     },
     "execution_count": 43,
     "metadata": {},
     "output_type": "execute_result"
    }
   ],
   "source": [
    "sizeof(A) #行列じゃなくてももちろん使える"
   ]
  },
  {
   "cell_type": "code",
   "execution_count": 41,
   "metadata": {},
   "outputs": [],
   "source": [
    "# ?size #?のサーチで見つけた。。。"
   ]
  },
  {
   "cell_type": "code",
   "execution_count": 40,
   "metadata": {},
   "outputs": [
    {
     "name": "stdout",
     "output_type": "stream",
     "text": [
      "search: \u001b[0m\u001b[1ms\u001b[22m\u001b[0m\u001b[1mi\u001b[22m\u001b[0m\u001b[1mz\u001b[22m\u001b[0m\u001b[1me\u001b[22m\u001b[0m\u001b[1mo\u001b[22m\u001b[0m\u001b[1mf\u001b[22m\n",
      "\n"
     ]
    },
    {
     "data": {
      "text/latex": [
       "\\begin{verbatim}\n",
       "sizeof(T::DataType)\n",
       "sizeof(obj)\n",
       "\\end{verbatim}\n",
       "Size, in bytes, of the canonical binary representation of the given \\texttt{DataType} \\texttt{T}, if any. Size, in bytes, of object \\texttt{obj} if it is not \\texttt{DataType}.\n",
       "\n",
       "\\section{Examples}\n",
       "\\begin{verbatim}\n",
       "julia> sizeof(Float32)\n",
       "4\n",
       "\n",
       "julia> sizeof(ComplexF64)\n",
       "16\n",
       "\n",
       "julia> sizeof(1.0)\n",
       "8\n",
       "\n",
       "julia> sizeof([1.0:10.0;])\n",
       "80\n",
       "\\end{verbatim}\n",
       "If \\texttt{DataType} \\texttt{T} does not have a specific size, an error is thrown.\n",
       "\n",
       "\\begin{verbatim}\n",
       "julia> sizeof(AbstractArray)\n",
       "ERROR: Abstract type AbstractArray does not have a definite size.\n",
       "Stacktrace:\n",
       "[...]\n",
       "\\end{verbatim}\n",
       "\\rule{\\textwidth}{1pt}\n",
       "\\begin{verbatim}\n",
       "sizeof(str::AbstractString)\n",
       "\\end{verbatim}\n",
       "Size, in bytes, of the string \\texttt{str}. Equal to the number of code units in \\texttt{str} multiplied by the size, in bytes, of one code unit in \\texttt{str}.\n",
       "\n",
       "\\section{Examples}\n",
       "\\begin{verbatim}\n",
       "julia> sizeof(\"\")\n",
       "0\n",
       "\n",
       "julia> sizeof(\"∀\")\n",
       "3\n",
       "\\end{verbatim}\n"
      ],
      "text/markdown": [
       "```\n",
       "sizeof(T::DataType)\n",
       "sizeof(obj)\n",
       "```\n",
       "\n",
       "Size, in bytes, of the canonical binary representation of the given `DataType` `T`, if any. Size, in bytes, of object `obj` if it is not `DataType`.\n",
       "\n",
       "# Examples\n",
       "\n",
       "```jldoctest\n",
       "julia> sizeof(Float32)\n",
       "4\n",
       "\n",
       "julia> sizeof(ComplexF64)\n",
       "16\n",
       "\n",
       "julia> sizeof(1.0)\n",
       "8\n",
       "\n",
       "julia> sizeof([1.0:10.0;])\n",
       "80\n",
       "```\n",
       "\n",
       "If `DataType` `T` does not have a specific size, an error is thrown.\n",
       "\n",
       "```jldoctest\n",
       "julia> sizeof(AbstractArray)\n",
       "ERROR: Abstract type AbstractArray does not have a definite size.\n",
       "Stacktrace:\n",
       "[...]\n",
       "```\n",
       "\n",
       "---\n",
       "\n",
       "```\n",
       "sizeof(str::AbstractString)\n",
       "```\n",
       "\n",
       "Size, in bytes, of the string `str`. Equal to the number of code units in `str` multiplied by the size, in bytes, of one code unit in `str`.\n",
       "\n",
       "# Examples\n",
       "\n",
       "```jldoctest\n",
       "julia> sizeof(\"\")\n",
       "0\n",
       "\n",
       "julia> sizeof(\"∀\")\n",
       "3\n",
       "```\n"
      ],
      "text/plain": [
       "\u001b[36m  sizeof(T::DataType)\u001b[39m\n",
       "\u001b[36m  sizeof(obj)\u001b[39m\n",
       "\n",
       "  Size, in bytes, of the canonical binary representation of the given \u001b[36mDataType\u001b[39m\n",
       "  \u001b[36mT\u001b[39m, if any. Size, in bytes, of object \u001b[36mobj\u001b[39m if it is not \u001b[36mDataType\u001b[39m.\n",
       "\n",
       "\u001b[1m  Examples\u001b[22m\n",
       "\u001b[1m  ≡≡≡≡≡≡≡≡≡≡\u001b[22m\n",
       "\n",
       "\u001b[36m  julia> sizeof(Float32)\u001b[39m\n",
       "\u001b[36m  4\u001b[39m\n",
       "\u001b[36m  \u001b[39m\n",
       "\u001b[36m  julia> sizeof(ComplexF64)\u001b[39m\n",
       "\u001b[36m  16\u001b[39m\n",
       "\u001b[36m  \u001b[39m\n",
       "\u001b[36m  julia> sizeof(1.0)\u001b[39m\n",
       "\u001b[36m  8\u001b[39m\n",
       "\u001b[36m  \u001b[39m\n",
       "\u001b[36m  julia> sizeof([1.0:10.0;])\u001b[39m\n",
       "\u001b[36m  80\u001b[39m\n",
       "\n",
       "  If \u001b[36mDataType\u001b[39m \u001b[36mT\u001b[39m does not have a specific size, an error is thrown.\n",
       "\n",
       "\u001b[36m  julia> sizeof(AbstractArray)\u001b[39m\n",
       "\u001b[36m  ERROR: Abstract type AbstractArray does not have a definite size.\u001b[39m\n",
       "\u001b[36m  Stacktrace:\u001b[39m\n",
       "\u001b[36m  [...]\u001b[39m\n",
       "\n",
       "  ────────────────────────────────────────────────────────────────────────────\n",
       "\n",
       "\u001b[36m  sizeof(str::AbstractString)\u001b[39m\n",
       "\n",
       "  Size, in bytes, of the string \u001b[36mstr\u001b[39m. Equal to the number of code units in \u001b[36mstr\u001b[39m\n",
       "  multiplied by the size, in bytes, of one code unit in \u001b[36mstr\u001b[39m.\n",
       "\n",
       "\u001b[1m  Examples\u001b[22m\n",
       "\u001b[1m  ≡≡≡≡≡≡≡≡≡≡\u001b[22m\n",
       "\n",
       "\u001b[36m  julia> sizeof(\"\")\u001b[39m\n",
       "\u001b[36m  0\u001b[39m\n",
       "\u001b[36m  \u001b[39m\n",
       "\u001b[36m  julia> sizeof(\"∀\")\u001b[39m\n",
       "\u001b[36m  3\u001b[39m"
      ]
     },
     "execution_count": 40,
     "metadata": {},
     "output_type": "execute_result"
    }
   ],
   "source": [
    "?sizeof"
   ]
  },
  {
   "cell_type": "markdown",
   "metadata": {},
   "source": [
    "#### 所感・考察・調査\n",
    "元のnumpy100見たく`size`とか`itemsize`でやるのかなーと思ってたけど`sizeof()`一発で行けるっぽい"
   ]
  },
  {
   "cell_type": "markdown",
   "metadata": {},
   "source": [
    "## 5. 任意のfunction等のドキュメントを得るには？（難易度１）"
   ]
  },
  {
   "cell_type": "code",
   "execution_count": 44,
   "metadata": {},
   "outputs": [
    {
     "name": "stdout",
     "output_type": "stream",
     "text": [
      "search: \u001b[0m\u001b[1ms\u001b[22m\u001b[0m\u001b[1mi\u001b[22m\u001b[0m\u001b[1mn\u001b[22m \u001b[0m\u001b[1ms\u001b[22m\u001b[0m\u001b[1mi\u001b[22m\u001b[0m\u001b[1mn\u001b[22mh \u001b[0m\u001b[1ms\u001b[22m\u001b[0m\u001b[1mi\u001b[22m\u001b[0m\u001b[1mn\u001b[22md \u001b[0m\u001b[1ms\u001b[22m\u001b[0m\u001b[1mi\u001b[22m\u001b[0m\u001b[1mn\u001b[22mc \u001b[0m\u001b[1ms\u001b[22m\u001b[0m\u001b[1mi\u001b[22m\u001b[0m\u001b[1mn\u001b[22mpi \u001b[0m\u001b[1ms\u001b[22m\u001b[0m\u001b[1mi\u001b[22m\u001b[0m\u001b[1mn\u001b[22mcos a\u001b[0m\u001b[1ms\u001b[22m\u001b[0m\u001b[1mi\u001b[22m\u001b[0m\u001b[1mn\u001b[22m u\u001b[0m\u001b[1ms\u001b[22m\u001b[0m\u001b[1mi\u001b[22m\u001b[0m\u001b[1mn\u001b[22mg i\u001b[0m\u001b[1ms\u001b[22m\u001b[0m\u001b[1mi\u001b[22m\u001b[0m\u001b[1mn\u001b[22mf a\u001b[0m\u001b[1ms\u001b[22m\u001b[0m\u001b[1mi\u001b[22m\u001b[0m\u001b[1mn\u001b[22mh a\u001b[0m\u001b[1ms\u001b[22m\u001b[0m\u001b[1mi\u001b[22m\u001b[0m\u001b[1mn\u001b[22md i\u001b[0m\u001b[1ms\u001b[22m\u001b[0m\u001b[1mi\u001b[22m\u001b[0m\u001b[1mn\u001b[22mteger\n",
      "\n"
     ]
    },
    {
     "data": {
      "text/latex": [
       "\\begin{verbatim}\n",
       "sin(x)\n",
       "\\end{verbatim}\n",
       "Compute sine of \\texttt{x}, where \\texttt{x} is in radians.\n",
       "\n",
       "\\rule{\\textwidth}{1pt}\n",
       "\\begin{verbatim}\n",
       "sin(A::AbstractMatrix)\n",
       "\\end{verbatim}\n",
       "Compute the matrix sine of a square matrix \\texttt{A}.\n",
       "\n",
       "If \\texttt{A} is symmetric or Hermitian, its eigendecomposition (\\href{@ref}{\\texttt{eigen}}) is used to compute the sine. Otherwise, the sine is determined by calling \\href{@ref}{\\texttt{exp}}.\n",
       "\n",
       "\\section{Examples}\n",
       "\\begin{verbatim}\n",
       "julia> sin(fill(1.0, (2,2)))\n",
       "2×2 Array{Float64,2}:\n",
       " 0.454649  0.454649\n",
       " 0.454649  0.454649\n",
       "\\end{verbatim}\n"
      ],
      "text/markdown": [
       "```\n",
       "sin(x)\n",
       "```\n",
       "\n",
       "Compute sine of `x`, where `x` is in radians.\n",
       "\n",
       "---\n",
       "\n",
       "```\n",
       "sin(A::AbstractMatrix)\n",
       "```\n",
       "\n",
       "Compute the matrix sine of a square matrix `A`.\n",
       "\n",
       "If `A` is symmetric or Hermitian, its eigendecomposition ([`eigen`](@ref)) is used to compute the sine. Otherwise, the sine is determined by calling [`exp`](@ref).\n",
       "\n",
       "# Examples\n",
       "\n",
       "```jldoctest\n",
       "julia> sin(fill(1.0, (2,2)))\n",
       "2×2 Array{Float64,2}:\n",
       " 0.454649  0.454649\n",
       " 0.454649  0.454649\n",
       "```\n"
      ],
      "text/plain": [
       "\u001b[36m  sin(x)\u001b[39m\n",
       "\n",
       "  Compute sine of \u001b[36mx\u001b[39m, where \u001b[36mx\u001b[39m is in radians.\n",
       "\n",
       "  ────────────────────────────────────────────────────────────────────────────\n",
       "\n",
       "\u001b[36m  sin(A::AbstractMatrix)\u001b[39m\n",
       "\n",
       "  Compute the matrix sine of a square matrix \u001b[36mA\u001b[39m.\n",
       "\n",
       "  If \u001b[36mA\u001b[39m is symmetric or Hermitian, its eigendecomposition (\u001b[36meigen\u001b[39m) is used to\n",
       "  compute the sine. Otherwise, the sine is determined by calling \u001b[36mexp\u001b[39m.\n",
       "\n",
       "\u001b[1m  Examples\u001b[22m\n",
       "\u001b[1m  ≡≡≡≡≡≡≡≡≡≡\u001b[22m\n",
       "\n",
       "\u001b[36m  julia> sin(fill(1.0, (2,2)))\u001b[39m\n",
       "\u001b[36m  2×2 Array{Float64,2}:\u001b[39m\n",
       "\u001b[36m   0.454649  0.454649\u001b[39m\n",
       "\u001b[36m   0.454649  0.454649\u001b[39m"
      ]
     },
     "execution_count": 44,
     "metadata": {},
     "output_type": "execute_result"
    }
   ],
   "source": [
    "?sin"
   ]
  },
  {
   "cell_type": "code",
   "execution_count": 45,
   "metadata": {},
   "outputs": [
    {
     "name": "stdout",
     "output_type": "stream",
     "text": [
      "search: \u001b[0m\u001b[1mf\u001b[22m\u001b[0m\u001b[1mi\u001b[22m\u001b[0m\u001b[1ml\u001b[22m\u001b[0m\u001b[1ml\u001b[22m \u001b[0m\u001b[1mf\u001b[22m\u001b[0m\u001b[1mi\u001b[22m\u001b[0m\u001b[1ml\u001b[22m\u001b[0m\u001b[1ml\u001b[22m! \u001b[0m\u001b[1mf\u001b[22m\u001b[0m\u001b[1mi\u001b[22mna\u001b[0m\u001b[1ml\u001b[22m\u001b[0m\u001b[1ml\u001b[22my \u001b[0m\u001b[1mf\u001b[22m\u001b[0m\u001b[1mi\u001b[22mnda\u001b[0m\u001b[1ml\u001b[22m\u001b[0m\u001b[1ml\u001b[22m \u001b[0m\u001b[1mf\u001b[22m\u001b[0m\u001b[1mi\u001b[22m\u001b[0m\u001b[1ml\u001b[22mter \u001b[0m\u001b[1mf\u001b[22m\u001b[0m\u001b[1mi\u001b[22m\u001b[0m\u001b[1ml\u001b[22mter! \u001b[0m\u001b[1mf\u001b[22m\u001b[0m\u001b[1mi\u001b[22m\u001b[0m\u001b[1ml\u001b[22mesize \u001b[0m\u001b[1mf\u001b[22m\u001b[0m\u001b[1mi\u001b[22m\u001b[0m\u001b[1ml\u001b[22memode is\u001b[0m\u001b[1mf\u001b[22m\u001b[0m\u001b[1mi\u001b[22m\u001b[0m\u001b[1ml\u001b[22me\n",
      "\n"
     ]
    },
    {
     "data": {
      "text/latex": [
       "\\begin{verbatim}\n",
       "fill(x, dims)\n",
       "\\end{verbatim}\n",
       "Create an array filled with the value \\texttt{x}. For example, \\texttt{fill(1.0, (5,5))} returns a 5×5 array of floats, with each element initialized to \\texttt{1.0}.\n",
       "\n",
       "\\section{Examples}\n",
       "\\begin{verbatim}\n",
       "julia> fill(1.0, (5,5))\n",
       "5×5 Array{Float64,2}:\n",
       " 1.0  1.0  1.0  1.0  1.0\n",
       " 1.0  1.0  1.0  1.0  1.0\n",
       " 1.0  1.0  1.0  1.0  1.0\n",
       " 1.0  1.0  1.0  1.0  1.0\n",
       " 1.0  1.0  1.0  1.0  1.0\n",
       "\\end{verbatim}\n",
       "If \\texttt{x} is an object reference, all elements will refer to the same object. \\texttt{fill(Foo(), dims)} will return an array filled with the result of evaluating \\texttt{Foo()} once.\n",
       "\n"
      ],
      "text/markdown": [
       "```\n",
       "fill(x, dims)\n",
       "```\n",
       "\n",
       "Create an array filled with the value `x`. For example, `fill(1.0, (5,5))` returns a 5×5 array of floats, with each element initialized to `1.0`.\n",
       "\n",
       "# Examples\n",
       "\n",
       "```jldoctest\n",
       "julia> fill(1.0, (5,5))\n",
       "5×5 Array{Float64,2}:\n",
       " 1.0  1.0  1.0  1.0  1.0\n",
       " 1.0  1.0  1.0  1.0  1.0\n",
       " 1.0  1.0  1.0  1.0  1.0\n",
       " 1.0  1.0  1.0  1.0  1.0\n",
       " 1.0  1.0  1.0  1.0  1.0\n",
       "```\n",
       "\n",
       "If `x` is an object reference, all elements will refer to the same object. `fill(Foo(), dims)` will return an array filled with the result of evaluating `Foo()` once.\n"
      ],
      "text/plain": [
       "\u001b[36m  fill(x, dims)\u001b[39m\n",
       "\n",
       "  Create an array filled with the value \u001b[36mx\u001b[39m. For example, \u001b[36mfill(1.0, (5,5))\u001b[39m\n",
       "  returns a 5×5 array of floats, with each element initialized to \u001b[36m1.0\u001b[39m.\n",
       "\n",
       "\u001b[1m  Examples\u001b[22m\n",
       "\u001b[1m  ≡≡≡≡≡≡≡≡≡≡\u001b[22m\n",
       "\n",
       "\u001b[36m  julia> fill(1.0, (5,5))\u001b[39m\n",
       "\u001b[36m  5×5 Array{Float64,2}:\u001b[39m\n",
       "\u001b[36m   1.0  1.0  1.0  1.0  1.0\u001b[39m\n",
       "\u001b[36m   1.0  1.0  1.0  1.0  1.0\u001b[39m\n",
       "\u001b[36m   1.0  1.0  1.0  1.0  1.0\u001b[39m\n",
       "\u001b[36m   1.0  1.0  1.0  1.0  1.0\u001b[39m\n",
       "\u001b[36m   1.0  1.0  1.0  1.0  1.0\u001b[39m\n",
       "\n",
       "  If \u001b[36mx\u001b[39m is an object reference, all elements will refer to the same object.\n",
       "  \u001b[36mfill(Foo(), dims)\u001b[39m will return an array filled with the result of evaluating\n",
       "  \u001b[36mFoo()\u001b[39m once."
      ]
     },
     "execution_count": 45,
     "metadata": {},
     "output_type": "execute_result"
    }
   ],
   "source": [
    "?fill"
   ]
  },
  {
   "cell_type": "markdown",
   "metadata": {},
   "source": [
    "#### 所感・考察・調査\n",
    "`?`:ヘルプコマンドの便利さがスゴイ"
   ]
  },
  {
   "cell_type": "markdown",
   "metadata": {},
   "source": [
    "## 06. 5番目の要素だけ1の大きさ10の零ベクトルを作る（難易度1）"
   ]
  },
  {
   "cell_type": "code",
   "execution_count": 5,
   "metadata": {},
   "outputs": [
    {
     "data": {
      "text/plain": [
       "1"
      ]
     },
     "execution_count": 5,
     "metadata": {},
     "output_type": "execute_result"
    }
   ],
   "source": [
    "a6 = zeros(10,1)\n",
    "a6[5]=1"
   ]
  },
  {
   "cell_type": "code",
   "execution_count": 6,
   "metadata": {},
   "outputs": [
    {
     "data": {
      "text/plain": [
       "10×1 Array{Float64,2}:\n",
       " 0.0\n",
       " 0.0\n",
       " 0.0\n",
       " 0.0\n",
       " 1.0\n",
       " 0.0\n",
       " 0.0\n",
       " 0.0\n",
       " 0.0\n",
       " 0.0"
      ]
     },
     "execution_count": 6,
     "metadata": {},
     "output_type": "execute_result"
    }
   ],
   "source": [
    "a6"
   ]
  },
  {
   "cell_type": "markdown",
   "metadata": {},
   "source": [
    "#### 所感・考察・調査\n",
    "indexの始まりが0スタートでないことに注意"
   ]
  },
  {
   "cell_type": "markdown",
   "metadata": {},
   "source": [
    "## 07. 10~49の範囲のベクトルを作成する（難易度1）"
   ]
  },
  {
   "cell_type": "code",
   "execution_count": 30,
   "metadata": {},
   "outputs": [
    {
     "data": {
      "text/plain": [
       "40-element LinRange{Float64}:\n",
       " 10.0,11.0,12.0,13.0,14.0,15.0,16.0,17.0,…,43.0,44.0,45.0,46.0,47.0,48.0,49.0"
      ]
     },
     "execution_count": 30,
     "metadata": {},
     "output_type": "execute_result"
    }
   ],
   "source": [
    "LinRange(10,49,49-9)"
   ]
  },
  {
   "cell_type": "code",
   "execution_count": 61,
   "metadata": {},
   "outputs": [
    {
     "name": "stdout",
     "output_type": "stream",
     "text": [
      "[11; 12; 13; 14; 15; 16; 17; 18; 19; 20; 21; 22; 23; 24; 25; 26; 27; 28; 29; 30; 31; 32; 33; 34; 35; 36; 37; 38; 39; 40; 41; 42; 43; 44; 45; 46; 47; 48; 49]"
     ]
    }
   ],
   "source": [
    "print([ 10 + 1*x for x in 1:39, y in 1:1 ])"
   ]
  },
  {
   "cell_type": "markdown",
   "metadata": {},
   "source": [
    "#### 所感・考察・調査\n",
    "他に絶対いいやり方ありそう、要調査"
   ]
  },
  {
   "cell_type": "markdown",
   "metadata": {},
   "source": [
    "## 08. ベクトルを並びを反対にするには？(最初の要素を最後の要素に)（難易度1)"
   ]
  },
  {
   "cell_type": "code",
   "execution_count": 60,
   "metadata": {},
   "outputs": [],
   "source": [
    "base_vec08=[ 10 + 1*x for x in 1:39, y in 1:1 ];"
   ]
  },
  {
   "cell_type": "code",
   "execution_count": 56,
   "metadata": {},
   "outputs": [
    {
     "name": "stdout",
     "output_type": "stream",
     "text": [
      "[49, 48, 47, 46, 45, 44, 43, 42, 41, 40, 39, 38, 37, 36, 35, 34, 33, 32, 31, 30, 29, 28, 27, 26, 25, 24, 23, 22, 21, 20, 19, 18, 17, 16, 15, 14, 13, 12, 11]"
     ]
    }
   ],
   "source": [
    "print(base_vec08[end:-1:1])"
   ]
  },
  {
   "cell_type": "markdown",
   "metadata": {},
   "source": [
    "#### 所感・考察・調査\n",
    "arrayのスライス?の使い方?  \n",
    "`[始めるindex:step:終わりのindex]`,[参考](https://stackoverflow.com/questions/27411401/julia-reverse-n-dimensional-arrays)"
   ]
  },
  {
   "cell_type": "code",
   "execution_count": 59,
   "metadata": {},
   "outputs": [
    {
     "name": "stdout",
     "output_type": "stream",
     "text": [
      "[49, 47, 45, 43, 41, 39, 37, 35, 33, 31, 29, 27, 25, 23, 21]"
     ]
    }
   ],
   "source": [
    "print(base_vec08[end:-2:10])"
   ]
  },
  {
   "cell_type": "markdown",
   "metadata": {},
   "source": [
    "## 09. 0~8の値をもつ3*3の行列を作成する"
   ]
  },
  {
   "cell_type": "code",
   "execution_count": 96,
   "metadata": {},
   "outputs": [
    {
     "data": {
      "text/plain": [
       "3×3 LinearAlgebra.Adjoint{Int64,Array{Int64,2}}:\n",
       " 0  1  2\n",
       " 3  4  5\n",
       " 6  7  8"
      ]
     },
     "execution_count": 96,
     "metadata": {},
     "output_type": "execute_result"
    }
   ],
   "source": [
    "base09=[ x-1 for x in 1:9, y in 1:1 ];\n",
    "ans09=reshape(base09,3,3)'"
   ]
  },
  {
   "cell_type": "markdown",
   "metadata": {},
   "source": [
    "#### 所感・考察・調査\n",
    "これはnumpyとほぼ同じ、転置するには`'`をつける。[参考](https://qiita.com/haru1843/items/3956dab2fd0d448cd02b)"
   ]
  },
  {
   "cell_type": "code",
   "execution_count": null,
   "metadata": {},
   "outputs": [],
   "source": []
  }
 ],
 "metadata": {
  "kernelspec": {
   "display_name": "Julia 1.2.0",
   "language": "julia",
   "name": "julia-1.2"
  },
  "language_info": {
   "file_extension": ".jl",
   "mimetype": "application/julia",
   "name": "julia",
   "version": "1.2.0"
  }
 },
 "nbformat": 4,
 "nbformat_minor": 4
}
